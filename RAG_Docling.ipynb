{
 "cells": [
  {
   "cell_type": "markdown",
   "metadata": {},
   "source": [
    "### References:\n",
    "* [docling_rag repository by shashanka300](https://github.com/shashanka300/docling_rag?utm_source=pocket_shared)\n",
    "* [multimodal RAG system with Docling and Granite](https://www.ibm.com/think/tutorials/build-multimodal-rag-langchain-with-docling-granite?utm_source=pocket_saves)\n",
    "* [Llama_index example with RAG and Reraking workflow](https://docs.llamaindex.ai/en/stable/examples/workflow/rag/)"
   ]
  },
  {
   "cell_type": "code",
   "execution_count": 1,
   "metadata": {},
   "outputs": [],
   "source": [
    "import converter"
   ]
  },
  {
   "cell_type": "code",
   "execution_count": 2,
   "metadata": {},
   "outputs": [],
   "source": [
    "processor = converter.DocumentProcessor(summarizer_model='gemma3:4b')"
   ]
  },
  {
   "cell_type": "code",
   "execution_count": 3,
   "metadata": {},
   "outputs": [
    {
     "name": "stderr",
     "output_type": "stream",
     "text": [
      "100%|██████████| 1/1 [00:11<00:00, 11.05s/it]\n"
     ]
    }
   ],
   "source": [
    "conversions = processor.convert('/Users/rauldemaio/Projects Local/agent_rag/data/fattura.pdf')"
   ]
  },
  {
   "cell_type": "code",
   "execution_count": 4,
   "metadata": {},
   "outputs": [
    {
     "name": "stderr",
     "output_type": "stream",
     "text": [
      "Usage of TableItem.export_to_markdown() without `doc` argument is deprecated.\n",
      "Usage of TableItem.export_to_markdown() without `doc` argument is deprecated.\n",
      "Usage of TableItem.export_to_markdown() without `doc` argument is deprecated.\n",
      "Usage of TableItem.export_to_markdown() without `doc` argument is deprecated.\n"
     ]
    }
   ],
   "source": [
    "nodes, mapping = processor.chunk_documents(conversions)"
   ]
  },
  {
   "cell_type": "code",
   "execution_count": 5,
   "metadata": {},
   "outputs": [
    {
     "name": "stderr",
     "output_type": "stream",
     "text": [
      "100%|██████████| 9/9 [01:02<00:00,  6.95s/it]\n"
     ]
    }
   ],
   "source": [
    "nodes = processor.add_embeddings(nodes, method='summary')"
   ]
  },
  {
   "cell_type": "code",
   "execution_count": 6,
   "metadata": {},
   "outputs": [],
   "source": [
    "from llama_index.core.vector_stores import SimpleVectorStore\n",
    "from llama_index.core import VectorStoreIndex\n",
    "#vectorstore = SimpleVectorStore()\n",
    "#vectorstore.add(nodes)\n",
    "\n",
    "index = VectorStoreIndex(nodes, embed_model=processor.embed_model)\n",
    "query_engine = index.as_query_engine(similarity_top_k=5, response_mode=\"refine\",llm = processor.summarizer)"
   ]
  },
  {
   "cell_type": "code",
   "execution_count": 7,
   "metadata": {},
   "outputs": [
    {
     "data": {
      "text/plain": [
       "[NodeWithScore(node=IndexNode(id_='0df9ac65-dcd0-4dcb-9d28-81877ef679e9', embedding=None, metadata={'source': '/Users/rauldemaio/Projects Local/agent_rag/data/fattura.pdf', 'ref': '#/tables/1', 'page_info': 2, 'content_type': 'TABLE', 'headings': ['Tipo documento: Documento commerciale'], 'doc_id': 0}, excluded_embed_metadata_keys=[], excluded_llm_metadata_keys=[], relationships={<NodeRelationship.PARENT: '4'>: RelatedNodeInfo(node_id='text_5', node_type=None, metadata={}, hash=None)}, metadata_template='{key}: {value}', metadata_separator='\\n', text='Here’s a summary of the invoice data:\\n\\nThis invoice (Documento di trasporto: 245237849) was shipped on September 23, 2024, by TWS. It includes one item: STOKKE YOYO Car Seat Adapters (Codice articolo: 1283521), with a quantity of 1 EA. The invoiced amount is €57.37, referencing order number 2207610837 and using the VAT code V22.', mimetype='text/plain', start_char_idx=None, end_char_idx=None, metadata_seperator='\\n', text_template='{metadata_str}\\n\\n{content}', index_id='table_7', obj=None), score=0.25905553956004207),\n",
       " NodeWithScore(node=IndexNode(id_='1bd8864e-289f-485d-b55d-b964efbdc224', embedding=None, metadata={'source': '/Users/rauldemaio/Projects Local/agent_rag/data/fattura.pdf', 'ref': '#/tables/2', 'page_info': 2, 'content_type': 'TABLE', 'headings': ['Tipo documento: Documento commerciale'], 'doc_id': 0}, excluded_embed_metadata_keys=[], excluded_llm_metadata_keys=[], relationships={<NodeRelationship.PARENT: '4'>: RelatedNodeInfo(node_id='text_5', node_type=None, metadata={}, hash=None)}, metadata_template='{key}: {value}', metadata_separator='\\n', text='This table shows an invoice with a “Totale” (Total) value, and a corresponding “IVA vendite” (VAT) and “Importo IVA” (VAT Amount) which are presumably calculated from that total. It’s a basic invoice detail breakdown.', mimetype='text/plain', start_char_idx=None, end_char_idx=None, metadata_seperator='\\n', text_template='{metadata_str}\\n\\n{content}', index_id='table_8', obj=None), score=0.14780023606814036),\n",
       " NodeWithScore(node=IndexNode(id_='1758aacb-c182-42b6-b446-c0f995f276a8', embedding=None, metadata={'source': '/Users/rauldemaio/Projects Local/agent_rag/data/fattura.pdf', 'ref': '#/tables/3', 'page_info': 2, 'content_type': 'TABLE', 'headings': ['Tipo documento: Documento commerciale'], 'doc_id': 0}, excluded_embed_metadata_keys=[], excluded_llm_metadata_keys=[], relationships={<NodeRelationship.PARENT: '4'>: RelatedNodeInfo(node_id='text_5', node_type=None, metadata={}, hash=None)}, metadata_template='{key}: {value}', metadata_separator='\\n', text='Please provide me with the table! I need the content of the table to be able to summarize it for you. 😊 \\n\\nOnce you paste the table here, I’ll do my best to provide a concise and relevant summary related to an invoice.', mimetype='text/plain', start_char_idx=None, end_char_idx=None, metadata_seperator='\\n', text_template='{metadata_str}\\n\\n{content}', index_id='table_9', obj=None), score=0.12518623158369963),\n",
       " NodeWithScore(node=IndexNode(id_='792e6526-5603-4bdd-a68f-4df12d5a9fdf', embedding=None, metadata={'source': '/Users/rauldemaio/Projects Local/agent_rag/data/fattura.pdf', 'ref': '#/tables/0', 'page_info': 2, 'content_type': 'TABLE', 'headings': ['Tipo documento: Documento commerciale'], 'doc_id': 0}, excluded_embed_metadata_keys=[], excluded_llm_metadata_keys=[], relationships={<NodeRelationship.PARENT: '4'>: RelatedNodeInfo(node_id='text_5', node_type=None, metadata={}, hash=None)}, metadata_template='{key}: {value}', metadata_separator='\\n', text='Here’s a summary of the invoice data:\\n\\nThis invoice (Numero: E00324337228) dated 23/9/2024 relates to account CSE003 and is subject to Partita IVA. Payment terms are TP01 ANT, and the bank is INTESA SAN PAOLO SPA. The payment details are: Account Number/ABI: 100000008486 / 0306909400, and the IBAN is IT05F0306909400100000008486. Delivery terms are indicated as “Termini di consegna”. The invoice is in EUR.', mimetype='text/plain', start_char_idx=None, end_char_idx=None, metadata_seperator='\\n', text_template='{metadata_str}\\n\\n{content}', index_id='table_6', obj=None), score=0.10896470246574096),\n",
       " NodeWithScore(node=TextNode(id_='text_5', embedding=None, metadata={'source': '/Users/rauldemaio/Projects Local/agent_rag/data/fattura.pdf', 'ref': '#/tables/0 #/texts/17 #/tables/1 #/texts/18 #/texts/19 #/texts/20 #/texts/21 #/texts/22 #/texts/25 #/texts/26 #/texts/27 #/texts/28 #/texts/29 #/texts/30 #/texts/31 #/texts/32 #/tables/2 #/tables/3', 'tables': ['#/tables/0', '#/tables/1', '#/tables/2', '#/tables/3'], 'page_info': 2, 'content_type': 'table', 'headings': ['Tipo documento: Documento commerciale'], 'doc_id': 0}, excluded_embed_metadata_keys=[], excluded_llm_metadata_keys=[], relationships={<NodeRelationship.PREVIOUS: '2'>: RelatedNodeInfo(node_id='text_4', node_type=None, metadata={}, hash=None), <NodeRelationship.CHILD: '5'>: RelatedNodeInfo(node_id='table_9', node_type=None, metadata={}, hash=None)}, metadata_template='{key}: {value}', metadata_separator='\\n', text='E00324337228, Data: = 23/9/2024. E00324337228, Conto fattura: = CSE003. E00324337228, Partita IVA : = . Condizioni di Pagamento:, Data: = TP01  ANT. Condizioni di Pagamento:, Conto fattura: = . Condizioni di Pagamento:, Partita IVA : = . Nome della banca:, Data: = INTESA SAN PAOLO SPA. Nome della banca:, Conto fattura: = . Nome della banca:, Partita IVA : = . Nr. conto bancario / ABI  e CAB:, Data: = 100000008486    /    0306909400. Nr. conto bancario / ABI  e CAB:, Conto fattura: = . Nr. conto bancario / ABI  e CAB:, Partita IVA : = . IBAN:, Data: = IT05F0306909400100000008486. IBAN:, Conto fattura: = IT05F0306909400100000008486. IBAN:, Partita IVA : = . Termini di consegna:, Data: = Termini di consegna:. Termini di consegna:, Conto fattura: = Termini di consegna:. Termini di consegna:, Partita IVA : = Termini di consegna:. Valuta:, Data: = EUR. Valuta:, Conto fattura: = . Valuta:, Partita IVA : = \\nNote:\\nRiga, 245237849 = Codice articolo. Riga, Data spedizione: = Descrizione. Riga, 23/09/2024 = Vostra  referenza. Riga,  = Ordine di  vendita. Riga,  = Quantità. Riga, Spedizioniere: = Unità. Riga, TWS = Prezzo unitario. Riga,  = Codice iva. Riga,  = Sconto. Riga,  = Importo. 1, 245237849 = 1283521. 1, Data spedizione: = STOKKE YOYO  ADATTATORI CAR SEAT. 1, 23/09/2024 = IT4453739. 1,  = 2207610837. 1,  = 1,00. 1, Spedizioniere: = EA. 1, TWS = 69,99. 1,  = V22. 1,  = 0,00. 1,  = 57,37\\nPrenatal S.P.A. Socleta unlpersonale\\nSoggetta direzione coordinamento di Prenatal Retail Group $ pa\\nPagina\\n1/2\\nvia Agostino Bertani; 20154 Milano\\nCliente: CSE003 Raul De Maio     Data: 23/9/2024     Numero fattura: E00324337228\\nNumero ordine web:  IT4453739\\nImporto subtotale vendite\\n57,37\\nTotale sconto\\n0,00\\nTotale spese\\n0,00\\nTotale, Importo IVA = Totale. Totale,  = \\n23/09/2024, 1 = 69,99', mimetype='text/plain', start_char_idx=None, end_char_idx=None, metadata_seperator='\\n', text_template='{metadata_str}\\n\\n{content}'), score=0.09651665008354361)]"
      ]
     },
     "execution_count": 7,
     "metadata": {},
     "output_type": "execute_result"
    }
   ],
   "source": [
    "index.as_retriever(similarity_top_k=5, response_mode='refine').retrieve(\n",
    "    \"Which items have been purchased?\"\n",
    ")"
   ]
  },
  {
   "cell_type": "code",
   "execution_count": 8,
   "metadata": {},
   "outputs": [],
   "source": [
    "from RAGWorkflow import RAGWorkflow\n",
    "w = RAGWorkflow()"
   ]
  },
  {
   "cell_type": "code",
   "execution_count": 9,
   "metadata": {},
   "outputs": [
    {
     "name": "stdout",
     "output_type": "stream",
     "text": [
      "Query the database with: What is the total cost, included VAT, for the purchased items?\n",
      "Retrieved 5 nodes.\n"
     ]
    },
    {
     "ename": "WorkflowRuntimeError",
     "evalue": "Error in step 'rerank': 'coroutine' object has no attribute 'summarizer'",
     "output_type": "error",
     "traceback": [
      "\u001b[0;31m---------------------------------------------------------------------------\u001b[0m",
      "\u001b[0;31mAttributeError\u001b[0m                            Traceback (most recent call last)",
      "File \u001b[0;32m/opt/anaconda3/envs/llm_agent/lib/python3.13/site-packages/llama_index/core/workflow/workflow.py:270\u001b[0m, in \u001b[0;36mWorkflow._start.<locals>._task\u001b[0;34m(name, queue, step, config)\u001b[0m\n\u001b[1;32m    269\u001b[0m \u001b[38;5;28;01mtry\u001b[39;00m:\n\u001b[0;32m--> 270\u001b[0m     new_ev \u001b[38;5;241m=\u001b[39m \u001b[38;5;28;01mawait\u001b[39;00m instrumented_step(\u001b[38;5;241m*\u001b[39m\u001b[38;5;241m*\u001b[39mkwargs)\n\u001b[1;32m    271\u001b[0m     \u001b[38;5;28;01mbreak\u001b[39;00m  \u001b[38;5;66;03m# exit the retrying loop\u001b[39;00m\n",
      "File \u001b[0;32m/opt/anaconda3/envs/llm_agent/lib/python3.13/site-packages/llama_index/core/instrumentation/dispatcher.py:368\u001b[0m, in \u001b[0;36mDispatcher.span.<locals>.async_wrapper\u001b[0;34m(func, instance, args, kwargs)\u001b[0m\n\u001b[1;32m    367\u001b[0m \u001b[38;5;28;01mtry\u001b[39;00m:\n\u001b[0;32m--> 368\u001b[0m     result \u001b[38;5;241m=\u001b[39m \u001b[38;5;28;01mawait\u001b[39;00m func(\u001b[38;5;241m*\u001b[39margs, \u001b[38;5;241m*\u001b[39m\u001b[38;5;241m*\u001b[39mkwargs)\n\u001b[1;32m    369\u001b[0m \u001b[38;5;28;01mexcept\u001b[39;00m \u001b[38;5;167;01mBaseException\u001b[39;00m \u001b[38;5;28;01mas\u001b[39;00m e:\n",
      "File \u001b[0;32m~/Projects Local/agent_rag/RAGWorkflow.py:56\u001b[0m, in \u001b[0;36mRAGWorkflow.rerank\u001b[0;34m(self, ctx, ev)\u001b[0m\n\u001b[1;32m     54\u001b[0m processor \u001b[38;5;241m=\u001b[39m ctx\u001b[38;5;241m.\u001b[39mget(\u001b[38;5;124m\"\u001b[39m\u001b[38;5;124mprocessor\u001b[39m\u001b[38;5;124m\"\u001b[39m)\n\u001b[1;32m     55\u001b[0m ranker \u001b[38;5;241m=\u001b[39m LLMRerank(\n\u001b[0;32m---> 56\u001b[0m     choice_batch_size\u001b[38;5;241m=\u001b[39m\u001b[38;5;241m5\u001b[39m, top_n\u001b[38;5;241m=\u001b[39m\u001b[38;5;241m3\u001b[39m, llm\u001b[38;5;241m=\u001b[39m\u001b[43mprocessor\u001b[49m\u001b[38;5;241;43m.\u001b[39;49m\u001b[43msummarizer\u001b[49m\n\u001b[1;32m     57\u001b[0m )\n\u001b[1;32m     58\u001b[0m \u001b[38;5;28mprint\u001b[39m(\u001b[38;5;28;01mawait\u001b[39;00m ctx\u001b[38;5;241m.\u001b[39mget(\u001b[38;5;124m\"\u001b[39m\u001b[38;5;124mquery\u001b[39m\u001b[38;5;124m\"\u001b[39m, default\u001b[38;5;241m=\u001b[39m\u001b[38;5;28;01mNone\u001b[39;00m), flush\u001b[38;5;241m=\u001b[39m\u001b[38;5;28;01mTrue\u001b[39;00m)\n",
      "\u001b[0;31mAttributeError\u001b[0m: 'coroutine' object has no attribute 'summarizer'",
      "\nThe above exception was the direct cause of the following exception:\n",
      "\u001b[0;31mWorkflowRuntimeError\u001b[0m                      Traceback (most recent call last)",
      "Cell \u001b[0;32mIn[9], line 1\u001b[0m\n\u001b[0;32m----> 1\u001b[0m result \u001b[38;5;241m=\u001b[39m \u001b[38;5;28;01mawait\u001b[39;00m w\u001b[38;5;241m.\u001b[39mrun(\n\u001b[1;32m      2\u001b[0m     query\u001b[38;5;241m=\u001b[39m\u001b[38;5;124m\"\u001b[39m\u001b[38;5;124mWhat is the total cost, included VAT, for the purchased items?\u001b[39m\u001b[38;5;124m\"\u001b[39m,\n\u001b[1;32m      3\u001b[0m     index\u001b[38;5;241m=\u001b[39mindex\n\u001b[1;32m      4\u001b[0m )\n\u001b[1;32m      6\u001b[0m \u001b[38;5;28;01masync\u001b[39;00m \u001b[38;5;28;01mfor\u001b[39;00m chunk \u001b[38;5;129;01min\u001b[39;00m result\u001b[38;5;241m.\u001b[39masync_response_gen():\n\u001b[1;32m      7\u001b[0m     \u001b[38;5;28mprint\u001b[39m(chunk, end\u001b[38;5;241m=\u001b[39m\u001b[38;5;124m\"\u001b[39m\u001b[38;5;124m\"\u001b[39m, flush\u001b[38;5;241m=\u001b[39m\u001b[38;5;28;01mTrue\u001b[39;00m)\n",
      "File \u001b[0;32m/opt/anaconda3/envs/llm_agent/lib/python3.13/site-packages/llama_index/core/workflow/workflow.py:497\u001b[0m, in \u001b[0;36mWorkflow.run.<locals>._run_workflow\u001b[0;34m()\u001b[0m\n\u001b[1;32m    493\u001b[0m \u001b[38;5;28;01mif\u001b[39;00m exception_raised:\n\u001b[1;32m    494\u001b[0m     \u001b[38;5;66;03m# cancel the stream\u001b[39;00m\n\u001b[1;32m    495\u001b[0m     ctx\u001b[38;5;241m.\u001b[39mwrite_event_to_stream(StopEvent())\n\u001b[0;32m--> 497\u001b[0m     \u001b[38;5;28;01mraise\u001b[39;00m exception_raised\n\u001b[1;32m    499\u001b[0m \u001b[38;5;28;01mif\u001b[39;00m \u001b[38;5;129;01mnot\u001b[39;00m we_done:\n\u001b[1;32m    500\u001b[0m     \u001b[38;5;66;03m# cancel the stream\u001b[39;00m\n\u001b[1;32m    501\u001b[0m     ctx\u001b[38;5;241m.\u001b[39mwrite_event_to_stream(StopEvent())\n",
      "File \u001b[0;32m/opt/anaconda3/envs/llm_agent/lib/python3.13/site-packages/llama_index/core/workflow/workflow.py:277\u001b[0m, in \u001b[0;36mWorkflow._start.<locals>._task\u001b[0;34m(name, queue, step, config)\u001b[0m\n\u001b[1;32m    275\u001b[0m \u001b[38;5;28;01mexcept\u001b[39;00m \u001b[38;5;167;01mException\u001b[39;00m \u001b[38;5;28;01mas\u001b[39;00m e:\n\u001b[1;32m    276\u001b[0m     \u001b[38;5;28;01mif\u001b[39;00m config\u001b[38;5;241m.\u001b[39mretry_policy \u001b[38;5;129;01mis\u001b[39;00m \u001b[38;5;28;01mNone\u001b[39;00m:\n\u001b[0;32m--> 277\u001b[0m         \u001b[38;5;28;01mraise\u001b[39;00m WorkflowRuntimeError(\n\u001b[1;32m    278\u001b[0m             \u001b[38;5;124mf\u001b[39m\u001b[38;5;124m\"\u001b[39m\u001b[38;5;124mError in step \u001b[39m\u001b[38;5;124m'\u001b[39m\u001b[38;5;132;01m{\u001b[39;00mname\u001b[38;5;132;01m}\u001b[39;00m\u001b[38;5;124m'\u001b[39m\u001b[38;5;124m: \u001b[39m\u001b[38;5;132;01m{\u001b[39;00me\u001b[38;5;132;01m!s}\u001b[39;00m\u001b[38;5;124m\"\u001b[39m\n\u001b[1;32m    279\u001b[0m         ) \u001b[38;5;28;01mfrom\u001b[39;00m\u001b[38;5;250m \u001b[39m\u001b[38;5;21;01me\u001b[39;00m\n\u001b[1;32m    281\u001b[0m     delay \u001b[38;5;241m=\u001b[39m config\u001b[38;5;241m.\u001b[39mretry_policy\u001b[38;5;241m.\u001b[39mnext(\n\u001b[1;32m    282\u001b[0m         retry_start_at \u001b[38;5;241m+\u001b[39m time\u001b[38;5;241m.\u001b[39mtime(), attempts, e\n\u001b[1;32m    283\u001b[0m     )\n\u001b[1;32m    284\u001b[0m     \u001b[38;5;28;01mif\u001b[39;00m delay \u001b[38;5;129;01mis\u001b[39;00m \u001b[38;5;28;01mNone\u001b[39;00m:\n\u001b[1;32m    285\u001b[0m         \u001b[38;5;66;03m# We're done retrying\u001b[39;00m\n",
      "\u001b[0;31mWorkflowRuntimeError\u001b[0m: Error in step 'rerank': 'coroutine' object has no attribute 'summarizer'"
     ]
    }
   ],
   "source": [
    "result = await w.run(\n",
    "    query=\"What is the total cost, included VAT, for the purchased items?\",\n",
    "    index=index\n",
    ")\n",
    "\n",
    "async for chunk in result.async_response_gen():\n",
    "    print(chunk, end=\"\", flush=True)"
   ]
  },
  {
   "cell_type": "code",
   "execution_count": 26,
   "metadata": {},
   "outputs": [
    {
     "name": "stdout",
     "output_type": "stream",
     "text": [
      "Query the database with: Which items have been purchased? Answer in italian.\n",
      "Retrieved 5 nodes.\n",
      "Which items have been purchased? Answer in italian.\n",
      "Reranked nodes to 2\n",
      "Sono stati acquistati adattatori per seggiolino Stokke YOYO (codice articolo 1283521) per un totale di 1 EA."
     ]
    }
   ],
   "source": [
    "result = await w.run(\n",
    "    query=\"Which items have been purchased? Answer in italian.\",\n",
    "    index=index\n",
    ")\n",
    "\n",
    "async for chunk in result.async_response_gen():\n",
    "    print(chunk, end=\"\", flush=True)"
   ]
  },
  {
   "cell_type": "code",
   "execution_count": 27,
   "metadata": {},
   "outputs": [
    {
     "name": "stdout",
     "output_type": "stream",
     "text": [
      "Query the database with: Who is the owner of the invoice? Answer in italian.\n",
      "Retrieved 5 nodes.\n",
      "Who is the owner of the invoice? Answer in italian.\n",
      "Reranked nodes to 2\n",
      "L'intestatario della fattura è indicato come CSE003."
     ]
    }
   ],
   "source": [
    "result = await w.run(\n",
    "    query=\"Who is the owner of the invoice? Answer in italian.\",\n",
    "    index=index\n",
    ")\n",
    "\n",
    "async for chunk in result.async_response_gen():\n",
    "    print(chunk, end=\"\", flush=True)"
   ]
  },
  {
   "cell_type": "code",
   "execution_count": 28,
   "metadata": {},
   "outputs": [
    {
     "name": "stdout",
     "output_type": "stream",
     "text": [
      "Query the database with: Which is the shipping or delivery address? What is the delivery and invoice dates? Are they different? Answer in italian.\n",
      "Retrieved 5 nodes.\n",
      "Which is the shipping or delivery address? What is the delivery and invoice dates? Are they different? Answer in italian.\n",
      "Reranked nodes to 2\n",
      "L’indirizzo di consegna è Via vestricio spurinna 57 roma, 00175 ITA. Non sono indicate date di fattura o di consegna."
     ]
    }
   ],
   "source": [
    "result = await w.run(\n",
    "    query=\"Which is the shipping or delivery address? What is the delivery and invoice dates? Are they different? Answer in italian.\",\n",
    "    index=index\n",
    ")\n",
    "\n",
    "async for chunk in result.async_response_gen():\n",
    "    print(chunk, end=\"\", flush=True)"
   ]
  },
  {
   "cell_type": "code",
   "execution_count": 29,
   "metadata": {},
   "outputs": [
    {
     "name": "stdout",
     "output_type": "stream",
     "text": [
      "Query the database with: What is the delivery and invoice dates? Are they different? Answer in italian.\n",
      "Retrieved 5 nodes.\n",
      "What is the delivery and invoice dates? Are they different? Answer in italian.\n",
      "Reranked nodes to 2\n",
      "La data di fattura è 23/09/2024. La data di spedizione è il 23 settembre 2024. Sono uguali."
     ]
    }
   ],
   "source": [
    "result = await w.run(\n",
    "    query=\"What is the delivery and invoice dates? Are they different? Answer in italian.\",\n",
    "    index=index\n",
    ")\n",
    "\n",
    "async for chunk in result.async_response_gen():\n",
    "    print(chunk, end=\"\", flush=True)"
   ]
  },
  {
   "cell_type": "markdown",
   "metadata": {},
   "source": [
    "---\n",
    "\n",
    "Alternativa:\n",
    "1. Leggi il documento\n",
    "2. Estrai il markdown\n",
    "    * Usa un Markdown Node Parser per ottenere i nodi testuali\n",
    "3. Estrai le tabelle\n",
    "    * Costruisci l'index object\n",
    "\n",
    "Altrimenti usare hierarchical Chunker di docling su cui però non c'è particolare controllo. \n",
    "\n",
    "\n",
    "Una volta ottenuto l'index e il retriever, si può optare per un [https://docs.llamaindex.ai/en/stable/use_cases/agents/](agent con llama_index)"
   ]
  },
  {
   "cell_type": "markdown",
   "metadata": {},
   "source": [
    "----\n",
    "\n",
    "First Version Without Source code in .py file"
   ]
  },
  {
   "cell_type": "code",
   "execution_count": null,
   "metadata": {},
   "outputs": [],
   "source": [
    "from docling.datamodel.base_models import InputFormat\n",
    "from docling.datamodel.pipeline_options import (\n",
    "    AcceleratorDevice,\n",
    "    AcceleratorOptions,\n",
    "    PdfPipelineOptions,\n",
    "    TableFormerMode\n",
    ")\n",
    "from docling.document_converter import DocumentConverter, PdfFormatOption\n",
    "from docling_core.transforms.chunker.hybrid_chunker import HybridChunker\n",
    "from sentence_transformers import SentenceTransformer\n",
    "\n",
    "from typing import List, Dict, Any\n",
    "from tqdm.notebook import tqdm"
   ]
  },
  {
   "cell_type": "code",
   "execution_count": null,
   "metadata": {},
   "outputs": [],
   "source": [
    "pipeline_options = PdfPipelineOptions()\n",
    "pipeline_options.do_ocr = True\n",
    "pipeline_options.do_table_structure = True\n",
    "pipeline_options.table_structure_options.do_cell_matching = True\n",
    "pipeline_options.ocr_options.lang = [\"en\",\"it\"]\n",
    "pipeline_options.table_structure_options.mode = TableFormerMode.ACCURATE\n",
    "pipeline_options.accelerator_options = AcceleratorOptions(\n",
    "    num_threads=8, device=AcceleratorDevice.MPS\n",
    ")\n",
    "\n",
    "converter = DocumentConverter(\n",
    "            format_options={\n",
    "                InputFormat.PDF: PdfFormatOption(\n",
    "                    pipeline_options=pipeline_options\n",
    "                )\n",
    "            }\n",
    "        )"
   ]
  },
  {
   "cell_type": "code",
   "execution_count": null,
   "metadata": {},
   "outputs": [],
   "source": [
    "from llama_index.embeddings.huggingface import HuggingFaceEmbedding\n",
    "\n",
    "embed_model = HuggingFaceEmbedding('sentence-transformers/all-MiniLM-L6-v2')\n",
    "\n",
    "# embed_model = SentenceTransformer('sentence-transformers/all-MiniLM-L6-v2')"
   ]
  },
  {
   "cell_type": "code",
   "execution_count": null,
   "metadata": {},
   "outputs": [],
   "source": [
    "sources = ['/Users/rauldemaio/Projects Local/agent_rag/data/fattura.pdf']\n",
    "conversions = {}\n",
    "\n",
    "for source in tqdm(sources):\n",
    "    # Convert the document to a Document object\n",
    "    conversions[source] = converter.convert(source=source).document\n"
   ]
  },
  {
   "cell_type": "code",
   "execution_count": null,
   "metadata": {},
   "outputs": [],
   "source": [
    "from docling_core.transforms.chunker.hybrid_chunker import HybridChunker\n",
    "from docling_core.types.doc.document import TableItem\n",
    "\n",
    "doc_id = 0\n",
    "\n"
   ]
  },
  {
   "cell_type": "code",
   "execution_count": null,
   "metadata": {},
   "outputs": [],
   "source": [
    "def extract_chunk_metadata(chunk) -> Dict[str, Any]:\n",
    "    \"\"\"Extract essential metadata from a chunk\"\"\"\n",
    "    metadata = {\n",
    "        \"text\": chunk.text,\n",
    "        \"headings\": [],\n",
    "        \"page_info\": None,\n",
    "        \"content_type\": None\n",
    "    }\n",
    "        \n",
    "    if hasattr(chunk, 'meta'):\n",
    "        # Extract headings\n",
    "        if hasattr(chunk.meta, 'headings') and chunk.meta.headings:\n",
    "            metadata[\"headings\"] = chunk.meta.headings\n",
    "            \n",
    "        # Extract page information and content type\n",
    "        if hasattr(chunk.meta, 'doc_items'):\n",
    "            for item in chunk.meta.doc_items:\n",
    "                if hasattr(item, 'label'):\n",
    "                    metadata[\"content_type\"] = str(item.label)\n",
    "                    \n",
    "                if hasattr(item, 'prov') and item.prov:\n",
    "                    for prov in item.prov:\n",
    "                        if hasattr(prov, 'page_no'):\n",
    "                            metadata[\"page_info\"] = prov.page_no\n",
    "        \n",
    "    return metadata"
   ]
  },
  {
   "cell_type": "code",
   "execution_count": null,
   "metadata": {},
   "outputs": [],
   "source": [
    "from llama_index.core.schema import TextNode, NodeRelationship, RelatedNodeInfo\n",
    "\n",
    "nodes = []\n",
    "chunker = HybridChunker(tokenizer=\"jinaai/jina-embeddings-v3\")\n",
    "\n",
    "for source, docling_document in conversions.items():\n",
    "    for chunk in chunker.chunk(docling_document):\n",
    "        \n",
    "        items = chunk.meta.doc_items\n",
    "\n",
    "        if len(items) == 1 and isinstance(items[0], TableItem):\n",
    "\n",
    "            continue # we will process tables later\n",
    "\n",
    "        refs = \" \".join(map(lambda item: item.get_ref().cref, items))\n",
    "\n",
    "        print(refs)\n",
    "\n",
    "        text = chunk.text\n",
    "        chunk_metadata = extract_chunk_metadata(chunk)\n",
    "\n",
    "        node = TextNode(\n",
    "            id_=str(doc_id+1),\n",
    "            text=text,\n",
    "            #embedding = embed_model.encode(text),\n",
    "            metadata ={\n",
    "                'source':source,\n",
    "                'ref':refs,\n",
    "                \"page_info\": chunk_metadata[\"page_info\"],\n",
    "                \"content_type\": chunk_metadata[\"content_type\"],\n",
    "                \"headings\": chunk_metadata[\"headings\"]\n",
    "                \n",
    "            }\n",
    "        )\n",
    "\n",
    "        nodes.append(node)\n",
    "\n",
    "        doc_id += 1\n",
    "        # Add relationships\n",
    "        \n",
    "\n"
   ]
  },
  {
   "cell_type": "code",
   "execution_count": null,
   "metadata": {},
   "outputs": [],
   "source": [
    "from docling_core.types.doc.labels import DocItemLabel\n",
    "\n",
    "doc_id = len(nodes)\n",
    "\n",
    "tables = []\n",
    "\n",
    "for source, docling_document in conversions.items():\n",
    "\n",
    "    for table in docling_document.tables:\n",
    "\n",
    "        if table.label in [DocItemLabel.TABLE]:\n",
    "\n",
    "            ref = table.get_ref().cref\n",
    "\n",
    "            print(ref)\n",
    "\n",
    "            text = table.export_to_markdown()\n",
    "\n",
    "            #chunk_metadata = extract_chunk_metadata(chunk)\n",
    "\n",
    "            node = TextNode(\n",
    "            id_=str(doc_id+1),\n",
    "            text=text,\n",
    "            #embedding = embed_model.encode(text),\n",
    "            metadata ={\n",
    "                'source':source,\n",
    "                'ref':refs,\n",
    "                #\"page_info\": chunk_metadata[\"page_info\"],\n",
    "                \"content_type\": 'TABLE',\n",
    "                #\"headings\": chunk_metadata[\"headings\"]\n",
    "                #'data': table.export_to_dataframe()\n",
    "            }\n",
    "        )\n",
    "\n",
    "        tables.append(node)\n",
    "\n",
    "        doc_id += 1\n",
    "\n",
    "            "
   ]
  },
  {
   "cell_type": "code",
   "execution_count": null,
   "metadata": {},
   "outputs": [],
   "source": [
    "import itertools\n",
    "\n",
    "for document in itertools.chain(nodes, tables):\n",
    "\n",
    "    print(f\"Document ID: {document.id_}\")\n",
    "\n",
    "    print(f\"Source: {document.metadata['source']}\")\n",
    "\n",
    "    print(f\"Content Type: {document.metadata['content_type']}\")\n",
    "\n",
    "    print(f\"Content:\\n{document.text[:50]}...\")\n",
    "\n",
    "    print(\"=\" * 80) # Separator for clarity\n",
    "\n"
   ]
  },
  {
   "cell_type": "code",
   "execution_count": null,
   "metadata": {},
   "outputs": [],
   "source": [
    "from llama_index.core import Settings\n",
    "from llama_index.llms.ollama import Ollama\n",
    "\n",
    "Settings.llm = Ollama(model=\"gemma3:4b\", request_timeout=60.0)"
   ]
  },
  {
   "cell_type": "code",
   "execution_count": null,
   "metadata": {},
   "outputs": [],
   "source": [
    "from llama_index.core.vector_stores import SimpleVectorStore\n",
    "\n",
    "vectorstore = SimpleVectorStore()"
   ]
  },
  {
   "cell_type": "code",
   "execution_count": null,
   "metadata": {},
   "outputs": [],
   "source": [
    "for node in nodes:\n",
    "\n",
    "    node.embedding = embed_model.get_text_embedding(\n",
    "        node.get_content(metadata_mode='all')\n",
    "        )"
   ]
  },
  {
   "cell_type": "code",
   "execution_count": null,
   "metadata": {},
   "outputs": [],
   "source": [
    "for table in tables:\n",
    "    table.embedding = embed_model.get_text_embedding(\n",
    "        table.get_content()\n",
    "        )"
   ]
  },
  {
   "cell_type": "code",
   "execution_count": null,
   "metadata": {},
   "outputs": [],
   "source": [
    "vectorstore.add(list(itertools.chain(nodes, tables)))"
   ]
  },
  {
   "cell_type": "code",
   "execution_count": null,
   "metadata": {},
   "outputs": [],
   "source": [
    "index = VectorStoreIndex(list(itertools.chain(nodes, tables)), embed_model=embed_model)"
   ]
  },
  {
   "cell_type": "code",
   "execution_count": null,
   "metadata": {},
   "outputs": [],
   "source": [
    "query_engine = index.as_query_engine(similarity_top_k=3, response_mode=\"tree_summarize\")"
   ]
  },
  {
   "cell_type": "code",
   "execution_count": null,
   "metadata": {},
   "outputs": [],
   "source": [
    "response = query_engine.query(\"Quale è la data della spedizione?\")\n",
    "display(response)\n",
    "for node in response.source_nodes:\n",
    "    print(f\"Node ID: {node.id_}\")\n",
    "    print(f\"Source: {node.metadata['source']}\")\n",
    "    print(f\"Content Type: {node.metadata['content_type']}\")\n",
    "    print(f\"Content:\\n{node.text}.\")\n",
    "    print(f\"Score: {node.score}\")\n",
    "    print(\"=\" * 80)  # Separator for clarity"
   ]
  },
  {
   "cell_type": "code",
   "execution_count": null,
   "metadata": {},
   "outputs": [],
   "source": [
    "# aggiungere un summarizer alle tabelle\n",
    "# aggiungere reranking\n",
    "# adottare un agent tool o un workflow\n"
   ]
  },
  {
   "cell_type": "code",
   "execution_count": null,
   "metadata": {},
   "outputs": [],
   "source": []
  }
 ],
 "metadata": {
  "kernelspec": {
   "display_name": "llm_agent",
   "language": "python",
   "name": "python3"
  },
  "language_info": {
   "codemirror_mode": {
    "name": "ipython",
    "version": 3
   },
   "file_extension": ".py",
   "mimetype": "text/x-python",
   "name": "python",
   "nbconvert_exporter": "python",
   "pygments_lexer": "ipython3",
   "version": "3.13.2"
  }
 },
 "nbformat": 4,
 "nbformat_minor": 2
}
