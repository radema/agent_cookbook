{
 "cells": [
  {
   "cell_type": "markdown",
   "metadata": {},
   "source": [
    "### References:\n",
    "* [docling_rag repository by shashanka300](https://github.com/shashanka300/docling_rag?utm_source=pocket_shared)\n",
    "* [multimodal RAG system with Docling and Granite](https://www.ibm.com/think/tutorials/build-multimodal-rag-langchain-with-docling-granite?utm_source=pocket_saves)\n",
    "* [Llama_index example with RAG and Reraking workflow](https://docs.llamaindex.ai/en/stable/examples/workflow/rag/)"
   ]
  },
  {
   "cell_type": "code",
   "execution_count": 1,
   "metadata": {},
   "outputs": [],
   "source": [
    "import converter"
   ]
  },
  {
   "cell_type": "code",
   "execution_count": 2,
   "metadata": {},
   "outputs": [],
   "source": [
    "processor = converter.DocumentProcessor(summarizer_model='gemma3:4b')"
   ]
  },
  {
   "cell_type": "code",
   "execution_count": 3,
   "metadata": {},
   "outputs": [
    {
     "name": "stderr",
     "output_type": "stream",
     "text": [
      "100%|██████████| 1/1 [00:11<00:00, 11.39s/it]\n"
     ]
    }
   ],
   "source": [
    "conversions = processor.convert('/Users/rauldemaio/Projects Local/agent_rag/data/fattura.pdf')"
   ]
  },
  {
   "cell_type": "code",
   "execution_count": 4,
   "metadata": {},
   "outputs": [
    {
     "name": "stderr",
     "output_type": "stream",
     "text": [
      "Usage of TableItem.export_to_markdown() without `doc` argument is deprecated.\n",
      "Usage of TableItem.export_to_markdown() without `doc` argument is deprecated.\n",
      "Usage of TableItem.export_to_markdown() without `doc` argument is deprecated.\n",
      "Usage of TableItem.export_to_markdown() without `doc` argument is deprecated.\n"
     ]
    }
   ],
   "source": [
    "nodes, mapping = processor.chunk_documents(conversions)"
   ]
  },
  {
   "cell_type": "code",
   "execution_count": 5,
   "metadata": {},
   "outputs": [
    {
     "name": "stderr",
     "output_type": "stream",
     "text": [
      "100%|██████████| 9/9 [00:51<00:00,  5.70s/it]\n"
     ]
    }
   ],
   "source": [
    "nodes = processor.add_embeddings(nodes, method='summary')"
   ]
  },
  {
   "cell_type": "code",
   "execution_count": 6,
   "metadata": {},
   "outputs": [],
   "source": [
    "from llama_index.core.vector_stores import SimpleVectorStore\n",
    "from llama_index.core import VectorStoreIndex\n",
    "#vectorstore = SimpleVectorStore()\n",
    "#vectorstore.add(nodes)\n",
    "\n",
    "index = VectorStoreIndex(nodes, embed_model=processor.embed_model)\n",
    "query_engine = index.as_query_engine(similarity_top_k=5, response_mode=\"refine\",llm = processor.summarizer)"
   ]
  },
  {
   "cell_type": "code",
   "execution_count": 7,
   "metadata": {},
   "outputs": [
    {
     "data": {
      "text/plain": [
       "[NodeWithScore(node=IndexNode(id_='28b9256a-df11-4ba2-9e84-d08e93d98558', embedding=None, metadata={'source': '/Users/rauldemaio/Projects Local/agent_rag/data/fattura.pdf', 'ref': '#/tables/1', 'page_info': 2, 'content_type': 'TABLE', 'headings': ['Tipo documento: Documento commerciale'], 'doc_id': 0}, excluded_embed_metadata_keys=[], excluded_llm_metadata_keys=[], relationships={<NodeRelationship.PARENT: '4'>: RelatedNodeInfo(node_id='text_5', node_type=None, metadata={}, hash=None)}, metadata_template='{key}: {value}', metadata_separator='\\n', text='Here’s a summary of the invoice data:\\n\\nThis invoice (Documento di trasporto: 245237849) was shipped on September 23, 2024, by TWS. It includes one item: STOKKE YOYO Car Seat Adapters (Codice articolo: 1283521), with a quantity of 1 EA. The invoiced amount is €57.37, referencing order number 2207610837 and using the VAT code V22.', mimetype='text/plain', start_char_idx=None, end_char_idx=None, metadata_seperator='\\n', text_template='{metadata_str}\\n\\n{content}', index_id='table_7', obj=None), score=0.24955812719309237),\n",
       " NodeWithScore(node=IndexNode(id_='3e4f99eb-d7f0-442c-ad90-028ae978f34a', embedding=None, metadata={'source': '/Users/rauldemaio/Projects Local/agent_rag/data/fattura.pdf', 'ref': '#/tables/2', 'page_info': 2, 'content_type': 'TABLE', 'headings': ['Tipo documento: Documento commerciale'], 'doc_id': 0}, excluded_embed_metadata_keys=[], excluded_llm_metadata_keys=[], relationships={<NodeRelationship.PARENT: '4'>: RelatedNodeInfo(node_id='text_5', node_type=None, metadata={}, hash=None)}, metadata_template='{key}: {value}', metadata_separator='\\n', text='This table represents an invoice total, specifically the “Totale” (Total) amount, likely including both the base price and the VAT (IVA vendite) and the corresponding VAT amount (Importo IVA). It’s a record of the final invoice value.', mimetype='text/plain', start_char_idx=None, end_char_idx=None, metadata_seperator='\\n', text_template='{metadata_str}\\n\\n{content}', index_id='table_8', obj=None), score=0.14535490281256502),\n",
       " NodeWithScore(node=IndexNode(id_='4993305c-1f38-4c00-9ff0-e16bb4abe7f1', embedding=None, metadata={'source': '/Users/rauldemaio/Projects Local/agent_rag/data/fattura.pdf', 'ref': '#/tables/3', 'page_info': 2, 'content_type': 'TABLE', 'headings': ['Tipo documento: Documento commerciale'], 'doc_id': 0}, excluded_embed_metadata_keys=[], excluded_llm_metadata_keys=[], relationships={<NodeRelationship.PARENT: '4'>: RelatedNodeInfo(node_id='text_5', node_type=None, metadata={}, hash=None)}, metadata_template='{key}: {value}', metadata_separator='\\n', text='Please provide me with the table! I need the table data to be able to summarize it for you. 😊 \\n\\nOnce you paste the table into our chat, I’ll do my best to create a concise and relevant summary based on the invoice information.', mimetype='text/plain', start_char_idx=None, end_char_idx=None, metadata_seperator='\\n', text_template='{metadata_str}\\n\\n{content}', index_id='table_9', obj=None), score=0.13515659719509598),\n",
       " NodeWithScore(node=IndexNode(id_='4324cbe9-11c5-4043-a9d2-7aedc1bbd2c1', embedding=None, metadata={'source': '/Users/rauldemaio/Projects Local/agent_rag/data/fattura.pdf', 'ref': '#/tables/0', 'page_info': 2, 'content_type': 'TABLE', 'headings': ['Tipo documento: Documento commerciale'], 'doc_id': 0}, excluded_embed_metadata_keys=[], excluded_llm_metadata_keys=[], relationships={<NodeRelationship.PARENT: '4'>: RelatedNodeInfo(node_id='text_5', node_type=None, metadata={}, hash=None)}, metadata_template='{key}: {value}', metadata_separator='\\n', text='Here’s a summary of the invoice data:\\n\\nThis invoice (Numero: E00324337228) dated 23/9/2024 relates to the “CSE003” account. Payment terms are TP01 ANT, and the bank is INTESA SAN PAOLO SPA. The payment details are: Account Number/ABI: 100000008486 / 0306909400, and the IBAN is IT05F0306909400100000008486. The delivery terms are specified as “Termini di consegna”. The invoice is in EUR.', mimetype='text/plain', start_char_idx=None, end_char_idx=None, metadata_seperator='\\n', text_template='{metadata_str}\\n\\n{content}', index_id='table_6', obj=None), score=0.11302385164406534),\n",
       " NodeWithScore(node=TextNode(id_='text_1', embedding=None, metadata={'source': '/Users/rauldemaio/Projects Local/agent_rag/data/fattura.pdf', 'ref': '#/texts/0 #/texts/1', 'tables': [], 'page_info': 1, 'content_type': 'text', 'headings': [], 'doc_id': 0}, excluded_embed_metadata_keys=[], excluded_llm_metadata_keys=[], relationships={<NodeRelationship.NEXT: '3'>: RelatedNodeInfo(node_id='text_2', node_type=None, metadata={}, hash=None)}, metadata_template='{key}: {value}', metadata_separator='\\n', text='Cliente: CSE003 Raul De Maio     Data: 23/9/2024     Numero fattura: E00324337228\\nNumero ordine web:  IT4453739', mimetype='text/plain', start_char_idx=None, end_char_idx=None, metadata_seperator='\\n', text_template='{metadata_str}\\n\\n{content}'), score=0.09693282101125018)]"
      ]
     },
     "execution_count": 7,
     "metadata": {},
     "output_type": "execute_result"
    }
   ],
   "source": [
    "index.as_retriever(similarity_top_k=5, response_mode='refine').retrieve(\n",
    "    \"Which items have been purchased?\"\n",
    ")"
   ]
  },
  {
   "cell_type": "code",
   "execution_count": 8,
   "metadata": {},
   "outputs": [],
   "source": [
    "from RAGWorkflow import RAGWorkflow\n",
    "w = RAGWorkflow()"
   ]
  },
  {
   "cell_type": "code",
   "execution_count": 9,
   "metadata": {},
   "outputs": [
    {
     "name": "stdout",
     "output_type": "stream",
     "text": [
      "Query the database with: What is the total cost, included VAT, for the purchased items?\n",
      "Retrieved 5 nodes.\n",
      "What is the total cost, included VAT, for the purchased items?\n",
      "Reranked nodes to 3\n",
      "The total cost, including VAT, for the purchased items is 57.37."
     ]
    }
   ],
   "source": [
    "result = await w.run(\n",
    "    query=\"What is the total cost, included VAT, for the purchased items?\",\n",
    "    index=index,\n",
    "    processor=processor,\n",
    ")\n",
    "\n",
    "async for chunk in result.async_response_gen():\n",
    "    print(chunk, end=\"\", flush=True)"
   ]
  },
  {
   "cell_type": "code",
   "execution_count": 11,
   "metadata": {},
   "outputs": [
    {
     "name": "stdout",
     "output_type": "stream",
     "text": [
      "Query the database with: Which items have been purchased? Answer in italian.\n",
      "Retrieved 5 nodes.\n",
      "Which items have been purchased? Answer in italian.\n",
      "Reranked nodes to 2\n",
      "Sono stati acquistati adattatori per seggiolino STOKKE YOYO (Codice articolo: 1283521) per un totale di 1 EA."
     ]
    }
   ],
   "source": [
    "result = await w.run(\n",
    "    query=\"Which items have been purchased? Answer in italian.\",\n",
    "    index=index,\n",
    "    processor=processor,\n",
    ")\n",
    "\n",
    "async for chunk in result.async_response_gen():\n",
    "    print(chunk, end=\"\", flush=True)"
   ]
  },
  {
   "cell_type": "code",
   "execution_count": 12,
   "metadata": {},
   "outputs": [
    {
     "name": "stdout",
     "output_type": "stream",
     "text": [
      "Query the database with: Who is the owner of the invoice? Answer in italian.\n",
      "Retrieved 5 nodes.\n",
      "Who is the owner of the invoice? Answer in italian.\n",
      "Reranked nodes to 2\n",
      "L'intestatario della fattura è indicato come “CSE003”."
     ]
    }
   ],
   "source": [
    "result = await w.run(\n",
    "    query=\"Who is the owner of the invoice? Answer in italian.\",\n",
    "    index=index,\n",
    "    processor=processor,\n",
    ")\n",
    "\n",
    "async for chunk in result.async_response_gen():\n",
    "    print(chunk, end=\"\", flush=True)"
   ]
  },
  {
   "cell_type": "code",
   "execution_count": 13,
   "metadata": {},
   "outputs": [
    {
     "name": "stdout",
     "output_type": "stream",
     "text": [
      "Query the database with: Which is the shipping or delivery address? What is the delivery and invoice dates? Are they different? Answer in italian.\n",
      "Retrieved 5 nodes.\n",
      "Which is the shipping or delivery address? What is the delivery and invoice dates? Are they different? Answer in italian.\n",
      "Reranked nodes to 2\n",
      "L'indirizzo di consegna è Via vestricio spurinna 57 roma, 00175 ITA. Non sono presenti date di fattura o di consegna per determinare se sono diverse."
     ]
    }
   ],
   "source": [
    "result = await w.run(\n",
    "    query=\"Which is the shipping or delivery address? What is the delivery and invoice dates? Are they different? Answer in italian.\",\n",
    "    index=index,\n",
    "    processor=processor,\n",
    ")\n",
    "\n",
    "async for chunk in result.async_response_gen():\n",
    "    print(chunk, end=\"\", flush=True)"
   ]
  },
  {
   "cell_type": "code",
   "execution_count": 15,
   "metadata": {},
   "outputs": [
    {
     "name": "stdout",
     "output_type": "stream",
     "text": [
      "Query the database with: What is the delivery and invoice dates? Are they different? Answer in italian.\n",
      "Retrieved 5 nodes.\n",
      "What is the delivery and invoice dates? Are they different? Answer in italian.\n",
      "Reranked nodes to 2\n",
      "La data di spedizione è il 23/09/2024. La data della fattura è il 23/09/2024. Sono uguali."
     ]
    }
   ],
   "source": [
    "result = await w.run(\n",
    "    query=\"What is the delivery and invoice dates? Are they different? Answer in italian.\",\n",
    "    index=index,\n",
    "    processor=processor,\n",
    ")\n",
    "\n",
    "async for chunk in result.async_response_gen():\n",
    "    print(chunk, end=\"\", flush=True)"
   ]
  },
  {
   "cell_type": "markdown",
   "metadata": {},
   "source": [
    "---\n",
    "\n",
    "Alternativa:\n",
    "1. Leggi il documento con docling\n",
    "2. Estrai il markdown\n",
    "    * Usa un Markdown Node Parser per ottenere i nodi testuali\n",
    "3. Estrai le tabelle\n",
    "    * Costruisci l'index object\n",
    "\n",
    "Altrimenti usare [hierarchical Chunker di docling](https://docling-project.github.io/docling/examples/rag_llamaindex/) su cui però non c'è particolare controllo. \n",
    "\n",
    "\n",
    "Una volta ottenuto l'index e il retriever, si può optare per un [https://docs.llamaindex.ai/en/stable/use_cases/agents/](agent con llama_index)"
   ]
  },
  {
   "cell_type": "code",
   "execution_count": 1,
   "metadata": {},
   "outputs": [],
   "source": [
    "from llama_index.embeddings.huggingface import HuggingFaceEmbedding\n",
    "\n",
    "EMBED_MODEL = HuggingFaceEmbedding('sentence-transformers/all-MiniLM-L6-v2')\n",
    "SOURCE = '/Users/rauldemaio/Projects Local/agent_rag/data/fattura.pdf'"
   ]
  },
  {
   "cell_type": "code",
   "execution_count": null,
   "metadata": {},
   "outputs": [],
   "source": [
    "from docling.document_converter import DocumentConverter\n",
    "from llama_index.core import StorageContext, VectorStoreIndex\n",
    "from llama_index.core.node_parser import MarkdownNodeParser\n",
    "\n",
    "reader = DocumentConverter()\n",
    "doc = reader.convert(SOURCE).document"
   ]
  },
  {
   "cell_type": "code",
   "execution_count": 43,
   "metadata": {},
   "outputs": [
    {
     "name": "stderr",
     "output_type": "stream",
     "text": [
      "Usage of TableItem.export_to_markdown() without `doc` argument is deprecated.\n",
      "Usage of TableItem.export_to_markdown() without `doc` argument is deprecated.\n",
      "Usage of TableItem.export_to_markdown() without `doc` argument is deprecated.\n",
      "Usage of TableItem.export_to_markdown() without `doc` argument is deprecated.\n"
     ]
    }
   ],
   "source": [
    "text = doc.export_to_markdown()\n",
    "table_list = [(table.export_to_markdown(),table.export_to_dataframe()) for table in doc.tables]"
   ]
  },
  {
   "cell_type": "code",
   "execution_count": 46,
   "metadata": {},
   "outputs": [
    {
     "data": {
      "text/plain": [
       "'<!-- image -->\\n\\nCliente: CSE003 Raul De Maio     Data: 23/9/2024     Numero fattura: E00324337228\\n\\nNumero ordine web:  IT4453739\\n\\n## Spett.le:\\n\\nRaul De Maio\\n\\n## Indirizzo di fatturazione :\\n\\nVia vestricio spurinna  57 roma, 00175 ITA\\n\\n## Indirizzo di consegna:\\n\\nVia vestricio spurinna  57 roma, 00175 ITA\\n\\nPeso netto:\\n\\nPeso lordo:\\n\\nVolume:\\n\\nColli:\\n\\n0,50\\n\\n0,50\\n\\n1000000000000000,00\\n\\n1,00\\n\\n## Tipo documento: Documento commerciale\\n\\n| Numero:                          | Data:                           | Conto fattura:              | Partita IVA :        |\\n|----------------------------------|---------------------------------|-----------------------------|----------------------|\\n| E00324337228                     | 23/9/2024                       | CSE003                      |                      |\\n| Condizioni di Pagamento:         | TP01  ANT                       |                             |                      |\\n| Nome della banca:                | INTESA SAN PAOLO SPA            |                             |                      |\\n| Nr. conto bancario / ABI  e CAB: | 100000008486    /    0306909400 |                             |                      |\\n| IBAN:                            | IT05F0306909400100000008486     | IT05F0306909400100000008486 |                      |\\n| Termini di consegna:             | Termini di consegna:            | Termini di consegna:        | Termini di consegna: |\\n| Valuta:                          | EUR                             |                             |                      |\\n\\nNote:\\n\\n| Documento di  trasporto:   | 245237849       | Data spedizione:                 | 23/09/2024        |                    |          | Spedizioniere:   | TWS             |            |        |         |\\n|----------------------------|-----------------|----------------------------------|-------------------|--------------------|----------|------------------|-----------------|------------|--------|---------|\\n| Riga                       | Codice articolo | Descrizione                      | Vostra  referenza | Ordine di  vendita | Quantità | Unità            | Prezzo unitario | Codice iva | Sconto | Importo |\\n| 1                          | 1283521         | STOKKE YOYO  ADATTATORI CAR SEAT | IT4453739         | 2207610837         | 1,00     | EA               | 69,99           | V22        | 0,00   | 57,37   |\\n\\nPrenatal S.P.A. Socleta unlpersonale\\n\\n<!-- image -->\\n\\nSoggetta direzione coordinamento di Prenatal Retail Group $ pa\\n\\nPagina\\n\\n1/2\\n\\nvia Agostino Bertani; 20154 Milano\\n\\n<!-- image -->\\n\\nCliente: CSE003 Raul De Maio     Data: 23/9/2024     Numero fattura: E00324337228\\n\\nNumero ordine web:  IT4453739\\n\\nImporto subtotale vendite\\n\\n57,37\\n\\nTotale sconto\\n\\n0,00\\n\\nTotale spese\\n\\n0,00\\n\\n| IVA vendite   | Importo IVA   |    |\\n|---------------|---------------|----|\\n| Totale        | Totale        |    |\\n\\n<!-- image -->'"
      ]
     },
     "execution_count": 46,
     "metadata": {},
     "output_type": "execute_result"
    }
   ],
   "source": [
    "text"
   ]
  },
  {
   "cell_type": "code",
   "execution_count": 52,
   "metadata": {},
   "outputs": [],
   "source": [
    "from llama_index.core.node_parser import MarkdownNodeParser\n",
    "from llama_index.core import Document\n",
    "\n",
    "documents = [Document(text=text)]\n",
    "\n",
    "parser = MarkdownNodeParser()"
   ]
  },
  {
   "cell_type": "code",
   "execution_count": 53,
   "metadata": {},
   "outputs": [
    {
     "data": {
      "text/plain": [
       "[TextNode(id_='ee20eb25-e420-4f31-aac0-f8b1b7204d39', embedding=None, metadata={'header_path': '/'}, excluded_embed_metadata_keys=[], excluded_llm_metadata_keys=[], relationships={<NodeRelationship.SOURCE: '1'>: RelatedNodeInfo(node_id='5b7d7129-5b4d-42c1-acbe-38d76b69f8e9', node_type=<ObjectType.DOCUMENT: '4'>, metadata={}, hash='89fec49ef2418489cdb6de539d8b3032a1a8cc3088b31a019771330c7e5bb156'), <NodeRelationship.NEXT: '3'>: RelatedNodeInfo(node_id='fb8dd2ec-eaf5-4370-bd2f-6a35c27b3329', node_type=<ObjectType.TEXT: '1'>, metadata={'header_path': '/'}, hash='d7aef55f01f31e74d8f1b2091b215b1dc29bc06dd21d17a68c02fa04171cbf76')}, metadata_template='{key}: {value}', metadata_separator='\\n', text='<!-- image -->\\n\\nCliente: CSE003 Raul De Maio     Data: 23/9/2024     Numero fattura: E00324337228\\n\\nNumero ordine web:  IT4453739', mimetype='text/plain', start_char_idx=0, end_char_idx=128, metadata_seperator='\\n', text_template='{metadata_str}\\n\\n{content}'),\n",
       " TextNode(id_='fb8dd2ec-eaf5-4370-bd2f-6a35c27b3329', embedding=None, metadata={'header_path': '/'}, excluded_embed_metadata_keys=[], excluded_llm_metadata_keys=[], relationships={<NodeRelationship.SOURCE: '1'>: RelatedNodeInfo(node_id='5b7d7129-5b4d-42c1-acbe-38d76b69f8e9', node_type=<ObjectType.DOCUMENT: '4'>, metadata={}, hash='89fec49ef2418489cdb6de539d8b3032a1a8cc3088b31a019771330c7e5bb156'), <NodeRelationship.PREVIOUS: '2'>: RelatedNodeInfo(node_id='ee20eb25-e420-4f31-aac0-f8b1b7204d39', node_type=<ObjectType.TEXT: '1'>, metadata={'header_path': '/'}, hash='4f39b840f973fc39c2b86a058a0a7e0c41411e836b9fbd4aff3e612c09002b58'), <NodeRelationship.NEXT: '3'>: RelatedNodeInfo(node_id='18ef1968-5925-410a-95ff-5b52e614d364', node_type=<ObjectType.TEXT: '1'>, metadata={'header_path': '/'}, hash='af0479887a6913d5dadcf4ce82c7eae62f5f4e623cab6d2eae716a0eef306eb7')}, metadata_template='{key}: {value}', metadata_separator='\\n', text='## Spett.le:\\n\\nRaul De Maio', mimetype='text/plain', start_char_idx=130, end_char_idx=156, metadata_seperator='\\n', text_template='{metadata_str}\\n\\n{content}'),\n",
       " TextNode(id_='18ef1968-5925-410a-95ff-5b52e614d364', embedding=None, metadata={'header_path': '/'}, excluded_embed_metadata_keys=[], excluded_llm_metadata_keys=[], relationships={<NodeRelationship.SOURCE: '1'>: RelatedNodeInfo(node_id='5b7d7129-5b4d-42c1-acbe-38d76b69f8e9', node_type=<ObjectType.DOCUMENT: '4'>, metadata={}, hash='89fec49ef2418489cdb6de539d8b3032a1a8cc3088b31a019771330c7e5bb156'), <NodeRelationship.PREVIOUS: '2'>: RelatedNodeInfo(node_id='fb8dd2ec-eaf5-4370-bd2f-6a35c27b3329', node_type=<ObjectType.TEXT: '1'>, metadata={'header_path': '/'}, hash='d7aef55f01f31e74d8f1b2091b215b1dc29bc06dd21d17a68c02fa04171cbf76'), <NodeRelationship.NEXT: '3'>: RelatedNodeInfo(node_id='27fff548-ee3e-43ae-b295-aca161801339', node_type=<ObjectType.TEXT: '1'>, metadata={'header_path': '/'}, hash='ebaeccfc9ff37137212656f99bbfc45c8a7deecf1f46e521acb61c3239724317')}, metadata_template='{key}: {value}', metadata_separator='\\n', text='## Indirizzo di fatturazione :\\n\\nVia vestricio spurinna  57 roma, 00175 ITA', mimetype='text/plain', start_char_idx=158, end_char_idx=232, metadata_seperator='\\n', text_template='{metadata_str}\\n\\n{content}'),\n",
       " TextNode(id_='27fff548-ee3e-43ae-b295-aca161801339', embedding=None, metadata={'header_path': '/'}, excluded_embed_metadata_keys=[], excluded_llm_metadata_keys=[], relationships={<NodeRelationship.SOURCE: '1'>: RelatedNodeInfo(node_id='5b7d7129-5b4d-42c1-acbe-38d76b69f8e9', node_type=<ObjectType.DOCUMENT: '4'>, metadata={}, hash='89fec49ef2418489cdb6de539d8b3032a1a8cc3088b31a019771330c7e5bb156'), <NodeRelationship.PREVIOUS: '2'>: RelatedNodeInfo(node_id='18ef1968-5925-410a-95ff-5b52e614d364', node_type=<ObjectType.TEXT: '1'>, metadata={'header_path': '/'}, hash='af0479887a6913d5dadcf4ce82c7eae62f5f4e623cab6d2eae716a0eef306eb7'), <NodeRelationship.NEXT: '3'>: RelatedNodeInfo(node_id='a3537d7a-e86c-43e6-9125-b18c07c30aed', node_type=<ObjectType.TEXT: '1'>, metadata={'header_path': '/'}, hash='1dee4b892df6e3d7499da9f2f6cac55bed4f7b6d35d4bd39a661d3b31ed5a3f1')}, metadata_template='{key}: {value}', metadata_separator='\\n', text='## Indirizzo di consegna:\\n\\nVia vestricio spurinna  57 roma, 00175 ITA\\n\\nPeso netto:\\n\\nPeso lordo:\\n\\nVolume:\\n\\nColli:\\n\\n0,50\\n\\n0,50\\n\\n1000000000000000,00\\n\\n1,00', mimetype='text/plain', start_char_idx=234, end_char_idx=385, metadata_seperator='\\n', text_template='{metadata_str}\\n\\n{content}'),\n",
       " TextNode(id_='a3537d7a-e86c-43e6-9125-b18c07c30aed', embedding=None, metadata={'header_path': '/'}, excluded_embed_metadata_keys=[], excluded_llm_metadata_keys=[], relationships={<NodeRelationship.SOURCE: '1'>: RelatedNodeInfo(node_id='5b7d7129-5b4d-42c1-acbe-38d76b69f8e9', node_type=<ObjectType.DOCUMENT: '4'>, metadata={}, hash='89fec49ef2418489cdb6de539d8b3032a1a8cc3088b31a019771330c7e5bb156'), <NodeRelationship.PREVIOUS: '2'>: RelatedNodeInfo(node_id='27fff548-ee3e-43ae-b295-aca161801339', node_type=<ObjectType.TEXT: '1'>, metadata={'header_path': '/'}, hash='ebaeccfc9ff37137212656f99bbfc45c8a7deecf1f46e521acb61c3239724317')}, metadata_template='{key}: {value}', metadata_separator='\\n', text='## Tipo documento: Documento commerciale\\n\\n| Numero:                          | Data:                           | Conto fattura:              | Partita IVA :        |\\n|----------------------------------|---------------------------------|-----------------------------|----------------------|\\n| E00324337228                     | 23/9/2024                       | CSE003                      |                      |\\n| Condizioni di Pagamento:         | TP01  ANT                       |                             |                      |\\n| Nome della banca:                | INTESA SAN PAOLO SPA            |                             |                      |\\n| Nr. conto bancario / ABI  e CAB: | 100000008486    /    0306909400 |                             |                      |\\n| IBAN:                            | IT05F0306909400100000008486     | IT05F0306909400100000008486 |                      |\\n| Termini di consegna:             | Termini di consegna:            | Termini di consegna:        | Termini di consegna: |\\n| Valuta:                          | EUR                             |                             |                      |\\n\\nNote:\\n\\n| Documento di  trasporto:   | 245237849       | Data spedizione:                 | 23/09/2024        |                    |          | Spedizioniere:   | TWS             |            |        |         |\\n|----------------------------|-----------------|----------------------------------|-------------------|--------------------|----------|------------------|-----------------|------------|--------|---------|\\n| Riga                       | Codice articolo | Descrizione                      | Vostra  referenza | Ordine di  vendita | Quantità | Unità            | Prezzo unitario | Codice iva | Sconto | Importo |\\n| 1                          | 1283521         | STOKKE YOYO  ADATTATORI CAR SEAT | IT4453739         | 2207610837         | 1,00     | EA               | 69,99           | V22        | 0,00   | 57,37   |\\n\\nPrenatal S.P.A. Socleta unlpersonale\\n\\n<!-- image -->\\n\\nSoggetta direzione coordinamento di Prenatal Retail Group $ pa\\n\\nPagina\\n\\n1/2\\n\\nvia Agostino Bertani; 20154 Milano\\n\\n<!-- image -->\\n\\nCliente: CSE003 Raul De Maio     Data: 23/9/2024     Numero fattura: E00324337228\\n\\nNumero ordine web:  IT4453739\\n\\nImporto subtotale vendite\\n\\n57,37\\n\\nTotale sconto\\n\\n0,00\\n\\nTotale spese\\n\\n0,00\\n\\n| IVA vendite   | Importo IVA   |    |\\n|---------------|---------------|----|\\n| Totale        | Totale        |    |\\n\\n<!-- image -->', mimetype='text/plain', start_char_idx=387, end_char_idx=2878, metadata_seperator='\\n', text_template='{metadata_str}\\n\\n{content}')]"
      ]
     },
     "execution_count": 53,
     "metadata": {},
     "output_type": "execute_result"
    }
   ],
   "source": [
    "parser.get_nodes_from_documents(documents)"
   ]
  },
  {
   "cell_type": "markdown",
   "metadata": {},
   "source": [
    "----\n",
    "\n",
    "First Version Without Source code in .py file"
   ]
  },
  {
   "cell_type": "code",
   "execution_count": null,
   "metadata": {},
   "outputs": [],
   "source": [
    "from docling.datamodel.base_models import InputFormat\n",
    "from docling.datamodel.pipeline_options import (\n",
    "    AcceleratorDevice,\n",
    "    AcceleratorOptions,\n",
    "    PdfPipelineOptions,\n",
    "    TableFormerMode\n",
    ")\n",
    "from docling.document_converter import DocumentConverter, PdfFormatOption\n",
    "from docling_core.transforms.chunker.hybrid_chunker import HybridChunker\n",
    "from sentence_transformers import SentenceTransformer\n",
    "\n",
    "from typing import List, Dict, Any\n",
    "from tqdm.notebook import tqdm"
   ]
  },
  {
   "cell_type": "code",
   "execution_count": null,
   "metadata": {},
   "outputs": [],
   "source": [
    "pipeline_options = PdfPipelineOptions()\n",
    "pipeline_options.do_ocr = True\n",
    "pipeline_options.do_table_structure = True\n",
    "pipeline_options.table_structure_options.do_cell_matching = True\n",
    "pipeline_options.ocr_options.lang = [\"en\",\"it\"]\n",
    "pipeline_options.table_structure_options.mode = TableFormerMode.ACCURATE\n",
    "pipeline_options.accelerator_options = AcceleratorOptions(\n",
    "    num_threads=8, device=AcceleratorDevice.MPS\n",
    ")\n",
    "\n",
    "converter = DocumentConverter(\n",
    "            format_options={\n",
    "                InputFormat.PDF: PdfFormatOption(\n",
    "                    pipeline_options=pipeline_options\n",
    "                )\n",
    "            }\n",
    "        )"
   ]
  },
  {
   "cell_type": "code",
   "execution_count": null,
   "metadata": {},
   "outputs": [],
   "source": [
    "from llama_index.embeddings.huggingface import HuggingFaceEmbedding\n",
    "\n",
    "embed_model = HuggingFaceEmbedding('sentence-transformers/all-MiniLM-L6-v2')\n",
    "\n",
    "# embed_model = SentenceTransformer('sentence-transformers/all-MiniLM-L6-v2')"
   ]
  },
  {
   "cell_type": "code",
   "execution_count": null,
   "metadata": {},
   "outputs": [],
   "source": [
    "sources = ['/Users/rauldemaio/Projects Local/agent_rag/data/fattura.pdf']\n",
    "conversions = {}\n",
    "\n",
    "for source in tqdm(sources):\n",
    "    # Convert the document to a Document object\n",
    "    conversions[source] = converter.convert(source=source).document\n"
   ]
  },
  {
   "cell_type": "code",
   "execution_count": null,
   "metadata": {},
   "outputs": [],
   "source": [
    "from docling_core.transforms.chunker.hybrid_chunker import HybridChunker\n",
    "from docling_core.types.doc.document import TableItem\n",
    "\n",
    "doc_id = 0\n",
    "\n"
   ]
  },
  {
   "cell_type": "code",
   "execution_count": null,
   "metadata": {},
   "outputs": [],
   "source": [
    "def extract_chunk_metadata(chunk) -> Dict[str, Any]:\n",
    "    \"\"\"Extract essential metadata from a chunk\"\"\"\n",
    "    metadata = {\n",
    "        \"text\": chunk.text,\n",
    "        \"headings\": [],\n",
    "        \"page_info\": None,\n",
    "        \"content_type\": None\n",
    "    }\n",
    "        \n",
    "    if hasattr(chunk, 'meta'):\n",
    "        # Extract headings\n",
    "        if hasattr(chunk.meta, 'headings') and chunk.meta.headings:\n",
    "            metadata[\"headings\"] = chunk.meta.headings\n",
    "            \n",
    "        # Extract page information and content type\n",
    "        if hasattr(chunk.meta, 'doc_items'):\n",
    "            for item in chunk.meta.doc_items:\n",
    "                if hasattr(item, 'label'):\n",
    "                    metadata[\"content_type\"] = str(item.label)\n",
    "                    \n",
    "                if hasattr(item, 'prov') and item.prov:\n",
    "                    for prov in item.prov:\n",
    "                        if hasattr(prov, 'page_no'):\n",
    "                            metadata[\"page_info\"] = prov.page_no\n",
    "        \n",
    "    return metadata"
   ]
  },
  {
   "cell_type": "code",
   "execution_count": null,
   "metadata": {},
   "outputs": [],
   "source": [
    "from llama_index.core.schema import TextNode, NodeRelationship, RelatedNodeInfo\n",
    "\n",
    "nodes = []\n",
    "chunker = HybridChunker(tokenizer=\"jinaai/jina-embeddings-v3\")\n",
    "\n",
    "for source, docling_document in conversions.items():\n",
    "    for chunk in chunker.chunk(docling_document):\n",
    "        \n",
    "        items = chunk.meta.doc_items\n",
    "\n",
    "        if len(items) == 1 and isinstance(items[0], TableItem):\n",
    "\n",
    "            continue # we will process tables later\n",
    "\n",
    "        refs = \" \".join(map(lambda item: item.get_ref().cref, items))\n",
    "\n",
    "        print(refs)\n",
    "\n",
    "        text = chunk.text\n",
    "        chunk_metadata = extract_chunk_metadata(chunk)\n",
    "\n",
    "        node = TextNode(\n",
    "            id_=str(doc_id+1),\n",
    "            text=text,\n",
    "            #embedding = embed_model.encode(text),\n",
    "            metadata ={\n",
    "                'source':source,\n",
    "                'ref':refs,\n",
    "                \"page_info\": chunk_metadata[\"page_info\"],\n",
    "                \"content_type\": chunk_metadata[\"content_type\"],\n",
    "                \"headings\": chunk_metadata[\"headings\"]\n",
    "                \n",
    "            }\n",
    "        )\n",
    "\n",
    "        nodes.append(node)\n",
    "\n",
    "        doc_id += 1\n",
    "        # Add relationships\n",
    "        \n",
    "\n"
   ]
  },
  {
   "cell_type": "code",
   "execution_count": null,
   "metadata": {},
   "outputs": [],
   "source": [
    "from docling_core.types.doc.labels import DocItemLabel\n",
    "\n",
    "doc_id = len(nodes)\n",
    "\n",
    "tables = []\n",
    "\n",
    "for source, docling_document in conversions.items():\n",
    "\n",
    "    for table in docling_document.tables:\n",
    "\n",
    "        if table.label in [DocItemLabel.TABLE]:\n",
    "\n",
    "            ref = table.get_ref().cref\n",
    "\n",
    "            print(ref)\n",
    "\n",
    "            text = table.export_to_markdown()\n",
    "\n",
    "            #chunk_metadata = extract_chunk_metadata(chunk)\n",
    "\n",
    "            node = TextNode(\n",
    "            id_=str(doc_id+1),\n",
    "            text=text,\n",
    "            #embedding = embed_model.encode(text),\n",
    "            metadata ={\n",
    "                'source':source,\n",
    "                'ref':refs,\n",
    "                #\"page_info\": chunk_metadata[\"page_info\"],\n",
    "                \"content_type\": 'TABLE',\n",
    "                #\"headings\": chunk_metadata[\"headings\"]\n",
    "                #'data': table.export_to_dataframe()\n",
    "            }\n",
    "        )\n",
    "\n",
    "        tables.append(node)\n",
    "\n",
    "        doc_id += 1\n",
    "\n",
    "            "
   ]
  },
  {
   "cell_type": "code",
   "execution_count": null,
   "metadata": {},
   "outputs": [],
   "source": [
    "import itertools\n",
    "\n",
    "for document in itertools.chain(nodes, tables):\n",
    "\n",
    "    print(f\"Document ID: {document.id_}\")\n",
    "\n",
    "    print(f\"Source: {document.metadata['source']}\")\n",
    "\n",
    "    print(f\"Content Type: {document.metadata['content_type']}\")\n",
    "\n",
    "    print(f\"Content:\\n{document.text[:50]}...\")\n",
    "\n",
    "    print(\"=\" * 80) # Separator for clarity\n",
    "\n"
   ]
  },
  {
   "cell_type": "code",
   "execution_count": null,
   "metadata": {},
   "outputs": [],
   "source": [
    "from llama_index.core import Settings\n",
    "from llama_index.llms.ollama import Ollama\n",
    "\n",
    "Settings.llm = Ollama(model=\"gemma3:4b\", request_timeout=60.0)"
   ]
  },
  {
   "cell_type": "code",
   "execution_count": null,
   "metadata": {},
   "outputs": [],
   "source": [
    "from llama_index.core.vector_stores import SimpleVectorStore\n",
    "\n",
    "vectorstore = SimpleVectorStore()"
   ]
  },
  {
   "cell_type": "code",
   "execution_count": null,
   "metadata": {},
   "outputs": [],
   "source": [
    "for node in nodes:\n",
    "\n",
    "    node.embedding = embed_model.get_text_embedding(\n",
    "        node.get_content(metadata_mode='all')\n",
    "        )"
   ]
  },
  {
   "cell_type": "code",
   "execution_count": null,
   "metadata": {},
   "outputs": [],
   "source": [
    "for table in tables:\n",
    "    table.embedding = embed_model.get_text_embedding(\n",
    "        table.get_content()\n",
    "        )"
   ]
  },
  {
   "cell_type": "code",
   "execution_count": null,
   "metadata": {},
   "outputs": [],
   "source": [
    "vectorstore.add(list(itertools.chain(nodes, tables)))"
   ]
  },
  {
   "cell_type": "code",
   "execution_count": null,
   "metadata": {},
   "outputs": [],
   "source": [
    "index = VectorStoreIndex(list(itertools.chain(nodes, tables)), embed_model=embed_model)"
   ]
  },
  {
   "cell_type": "code",
   "execution_count": null,
   "metadata": {},
   "outputs": [],
   "source": [
    "query_engine = index.as_query_engine(similarity_top_k=3, response_mode=\"tree_summarize\")"
   ]
  },
  {
   "cell_type": "code",
   "execution_count": null,
   "metadata": {},
   "outputs": [],
   "source": [
    "response = query_engine.query(\"Quale è la data della spedizione?\")\n",
    "display(response)\n",
    "for node in response.source_nodes:\n",
    "    print(f\"Node ID: {node.id_}\")\n",
    "    print(f\"Source: {node.metadata['source']}\")\n",
    "    print(f\"Content Type: {node.metadata['content_type']}\")\n",
    "    print(f\"Content:\\n{node.text}.\")\n",
    "    print(f\"Score: {node.score}\")\n",
    "    print(\"=\" * 80)  # Separator for clarity"
   ]
  },
  {
   "cell_type": "code",
   "execution_count": null,
   "metadata": {},
   "outputs": [],
   "source": [
    "# aggiungere un summarizer alle tabelle\n",
    "# aggiungere reranking\n",
    "# adottare un agent tool o un workflow\n"
   ]
  },
  {
   "cell_type": "code",
   "execution_count": null,
   "metadata": {},
   "outputs": [],
   "source": []
  }
 ],
 "metadata": {
  "kernelspec": {
   "display_name": "llm_agent",
   "language": "python",
   "name": "python3"
  },
  "language_info": {
   "codemirror_mode": {
    "name": "ipython",
    "version": 3
   },
   "file_extension": ".py",
   "mimetype": "text/x-python",
   "name": "python",
   "nbconvert_exporter": "python",
   "pygments_lexer": "ipython3",
   "version": "3.13.2"
  }
 },
 "nbformat": 4,
 "nbformat_minor": 2
}
