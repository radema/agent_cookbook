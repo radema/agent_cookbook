{
 "cells": [
  {
   "cell_type": "code",
   "execution_count": null,
   "metadata": {},
   "outputs": [],
   "source": [
    "from sec_edgar_downloader import Downloader\n",
    "\n",
    "dl = Downloader(\"MyCompanyName\", \"my.email@domain.com\")"
   ]
  },
  {
   "cell_type": "code",
   "execution_count": null,
   "metadata": {},
   "outputs": [],
   "source": [
    "dl.get(\"10-K\", \"MSFT\", limit=1)"
   ]
  },
  {
   "cell_type": "code",
   "execution_count": null,
   "metadata": {},
   "outputs": [],
   "source": [
    "import requests\n",
    "import pandas as pd\n",
    "from typing import List, Dict\n",
    "import yfinance as yf\n",
    "import sec_edgar_downloader as sec\n",
    "\n",
    "def lookup_company_info(isins: List[str]) -> List[Dict]:\n",
    "    \"\"\"\n",
    "    Retrieve company information for a list of ISINs.\n",
    "    \n",
    "    Parameters:\n",
    "    isins (List[str]): List of International Securities Identification Numbers (ISINs)\n",
    "    \n",
    "    Returns:\n",
    "    List[Dict]: List of dictionaries containing company information\n",
    "    \"\"\"\n",
    "    company_info_list = []\n",
    "    \n",
    "    for isin in isins:\n",
    "        company_info = {\n",
    "            'ISIN': isin,\n",
    "            'Company Name': None,\n",
    "            'Website': None,\n",
    "            'CIK': None\n",
    "        }\n",
    "        \n",
    "        try:\n",
    "            # First, try to get info using yfinance\n",
    "            ticker_symbol = None\n",
    "            \n",
    "            # Attempt to convert ISIN to ticker\n",
    "            try:\n",
    "                ticker = yf.Ticker(isin)\n",
    "                info = ticker.info\n",
    "                \n",
    "                # Extract company name\n",
    "                if 'longName' in info and info['longName']:\n",
    "                    company_info['Company Name'] = info['longName']\n",
    "                \n",
    "                # Extract website\n",
    "                if 'website' in info and info['website']:\n",
    "                    company_info['Website'] = info['website']\n",
    "                \n",
    "                # Try to get ticker symbol\n",
    "                ticker_symbol = ticker.ticker\n",
    "            except Exception as yf_error:\n",
    "                print(f\"YFinance lookup failed for {isin}: {yf_error}\")\n",
    "            \n",
    "            # If ticker is available, try SEC Edgar lookup\n",
    "            if ticker_symbol:\n",
    "                try:\n",
    "                    # Initialize SEC Edgar downloader\n",
    "                    dl = Downloader(\"MyCompanyName\", \"my.email@domain.com\")\n",
    "                    \n",
    "                    # Get company information from SEC\n",
    "                    company_info['CIK'] = dl.get_cik_by_ticker(ticker_symbol)\n",
    "                except Exception as sec_error:\n",
    "                    print(f\"SEC Edgar lookup failed for {ticker_symbol}: {sec_error}\")\n",
    "            \n",
    "            company_info_list.append(company_info)\n",
    "        \n",
    "        except Exception as e:\n",
    "            print(f\"Error processing ISIN {isin}: {e}\")\n",
    "            company_info_list.append(company_info)\n",
    "    \n",
    "    return company_info_list\n",
    "\n",
    "def main():\n",
    "    # Example list of ISINs\n",
    "    example_isins = [\n",
    "        'US0378331005',  # Apple\n",
    "        'US5949181045',  # Microsoft\n",
    "        'US88160R1014'   # Tesla\n",
    "    ]\n",
    "    \n",
    "    # Get company information\n",
    "    results = lookup_company_info(example_isins)\n",
    "    \n",
    "    # Convert to DataFrame for easy viewing\n",
    "    df = pd.DataFrame(results)\n",
    "    print(df)\n",
    "    \n",
    "    # Optional: Save to CSV\n",
    "    df.to_csv('company_info.csv', index=False)"
   ]
  },
  {
   "cell_type": "code",
   "execution_count": null,
   "metadata": {},
   "outputs": [],
   "source": [
    "main()"
   ]
  },
  {
   "cell_type": "code",
   "execution_count": null,
   "metadata": {},
   "outputs": [],
   "source": [
    "import requests\n",
    "import json\n",
    "\n",
    "def get_cik_by_ticker(ticker: str) -> str:\n",
    "    \"\"\"\n",
    "    Retrieve CIK (Central Index Key) for a given stock ticker.\n",
    "    \n",
    "    Args:\n",
    "        ticker (str): Stock ticker symbol\n",
    "    \n",
    "    Returns:\n",
    "        str: CIK number or None if not found\n",
    "    \"\"\"\n",
    "    # SEC EDGAR company tickers mapping file\n",
    "    tickers_url = \"https://www.sec.gov/files/company_tickers.json\"\n",
    "    \n",
    "    try:\n",
    "        # Fetch the tickers JSON\n",
    "        response = requests.get(tickers_url, headers={\n",
    "            'User-Agent': 'Your Name your.email@example.com'\n",
    "        })\n",
    "        \n",
    "        # Raise an exception for bad responses\n",
    "        response.raise_for_status()\n",
    "        \n",
    "        # Parse the JSON response\n",
    "        tickers_data = response.json()\n",
    "        \n",
    "        # Normalize ticker to uppercase\n",
    "        ticker = ticker.upper()\n",
    "        \n",
    "        # Search for the CIK\n",
    "        for key, company_info in tickers_data.items():\n",
    "            if company_info['ticker'] == ticker:\n",
    "                # Pad CIK with zeros to ensure 10 digits\n",
    "                return str(company_info['cik_str']).zfill(10)\n",
    "        \n",
    "        # If ticker not found\n",
    "        return None\n",
    "    \n",
    "    except Exception as e:\n",
    "        print(f\"Error retrieving CIK for {ticker}: {e}\")\n",
    "        return None\n",
    "\n",
    "def get_company_info_by_cik(cik: str) -> dict:\n",
    "    \"\"\"\n",
    "    Retrieve basic company information using CIK.\n",
    "    \n",
    "    Args:\n",
    "        cik (str): CIK number\n",
    "    \n",
    "    Returns:\n",
    "        dict: Company information\n",
    "    \"\"\"\n",
    "    # Ensure CIK is padded to 10 digits\n",
    "    cik = str(cik).zfill(10)\n",
    "    \n",
    "    # Construct SEC EDGAR company information URL\n",
    "    url = f\"https://data.sec.gov/submissions/CIK{cik}.json\"\n",
    "    \n",
    "    try:\n",
    "        # Fetch company information\n",
    "        response = requests.get(url, headers={\n",
    "            'User-Agent': 'Your Name your.email@example.com'\n",
    "        })\n",
    "        \n",
    "        # Raise an exception for bad responses\n",
    "        response.raise_for_status()\n",
    "        \n",
    "        # Parse the JSON response\n",
    "        company_data = response.json()\n",
    "        \n",
    "        # Extract relevant information\n",
    "        return {\n",
    "            'name': company_data.get('name', 'N/A'),\n",
    "            'ticker': company_data.get('tickers', ['N/A'])[0],\n",
    "            'sic': company_data.get('sic', 'N/A'),\n",
    "            'website': company_data.get('website', 'N/A')\n",
    "        }\n",
    "    \n",
    "    except Exception as e:\n",
    "        print(f\"Error retrieving company info for CIK {cik}: {e}\")\n",
    "        return {}\n",
    "\n",
    "def main():\n",
    "    # Example usage\n",
    "    tickers = ['AAPL', 'MSFT', 'GOOGL']\n",
    "    \n",
    "    for ticker in tickers:\n",
    "        # Get CIK\n",
    "        cik = get_cik_by_ticker(ticker)\n",
    "        \n",
    "        if cik:\n",
    "            print(f\"\\nTicker: {ticker}\")\n",
    "            print(f\"CIK: {cik}\")\n",
    "            \n",
    "            # Get additional company info\n",
    "            company_info = get_company_info_by_cik(cik)\n",
    "            \n",
    "            # Print company details\n",
    "            for key, value in company_info.items():\n",
    "                print(f\"{key.capitalize()}: {value}\")\n",
    "        else:\n",
    "            print(f\"Could not find CIK for {ticker}\")"
   ]
  },
  {
   "cell_type": "code",
   "execution_count": null,
   "metadata": {},
   "outputs": [],
   "source": [
    "main()"
   ]
  },
  {
   "cell_type": "code",
   "execution_count": null,
   "metadata": {},
   "outputs": [],
   "source": [
    "dat = yf.Ticker(\"MSFT\")\n",
    "dat.info"
   ]
  },
  {
   "cell_type": "code",
   "execution_count": null,
   "metadata": {},
   "outputs": [],
   "source": [
    "!conda install -c conda-forge yfinance=0.2.53 -y"
   ]
  },
  {
   "cell_type": "code",
   "execution_count": null,
   "metadata": {},
   "outputs": [],
   "source": [
    "ISIN = ['US9884981013','US91913Y1001','US1266501006','US23331A1097',\n",
    "'US05722G1004','US4278661081','US0718131099','US9694571004','US8550301027',\n",
    "'US0028241000','US69351T1060','US7445731067','US3703341046',\n",
    "'US2358511028','US02209S1033','US7865142084','US85590A4013',\n",
    "'US55616P1049','US25746U1097','US1491231015','US30161N1019',\n",
    "'US0091581068','US3695501086','US14149Y1082','US4385161066',\n",
    "'US0970231058','US74834L1008','US6819191064','US42809H1077',\n",
    "'CH0048265513','US29364G1031','US7617131062','US1344291091']"
   ]
  },
  {
   "cell_type": "code",
   "execution_count": null,
   "metadata": {},
   "outputs": [],
   "source": [
    "import yfinance as yf"
   ]
  },
  {
   "cell_type": "code",
   "execution_count": null,
   "metadata": {},
   "outputs": [],
   "source": [
    "for i in ISIN:\n",
    "    ticker = yf.Ticker(i)\n",
    "    try:\n",
    "        print(ticker.info)\n",
    "    except:\n",
    "        print(f\"ISIN {i} delisted\")"
   ]
  },
  {
   "cell_type": "code",
   "execution_count": null,
   "metadata": {},
   "outputs": [],
   "source": [
    "import investpy\n",
    "\n",
    "df = investpy.stocks.search_stocks(by='isin', value=ISIN[1])"
   ]
  },
  {
   "cell_type": "code",
   "execution_count": null,
   "metadata": {},
   "outputs": [],
   "source": [
    "from time import sleep\n",
    "from tqdm.notebook import tqdm\n",
    "list_df = []\n",
    "delisted = []\n",
    "\n",
    "for i in tqdm(ISIN):\n",
    "    try:\n",
    "        df = investpy.stocks.search_stocks(by='isin', value=i)\n",
    "        list_df.append(df)\n",
    "    except:\n",
    "        delisted.append(i)\n",
    "        print(f\"ISIN {i} delisted\")\n",
    "    sleep(0.5)"
   ]
  },
  {
   "cell_type": "code",
   "execution_count": null,
   "metadata": {},
   "outputs": [],
   "source": [
    "list_df"
   ]
  },
  {
   "cell_type": "code",
   "execution_count": null,
   "metadata": {},
   "outputs": [],
   "source": [
    "import pandas as pd"
   ]
  },
  {
   "cell_type": "code",
   "execution_count": null,
   "metadata": {},
   "outputs": [],
   "source": [
    "cdf = pd.concat(list_df)"
   ]
  },
  {
   "cell_type": "code",
   "execution_count": null,
   "metadata": {},
   "outputs": [],
   "source": [
    "cdf.loc[cdf['country']=='united states','isin'].unique()\n",
    "# some ISINs may not be in the united states"
   ]
  },
  {
   "cell_type": "code",
   "execution_count": null,
   "metadata": {},
   "outputs": [],
   "source": []
  }
 ],
 "metadata": {
  "kernelspec": {
   "display_name": "scrapegraph",
   "language": "python",
   "name": "python3"
  },
  "language_info": {
   "codemirror_mode": {
    "name": "ipython",
    "version": 3
   },
   "file_extension": ".py",
   "mimetype": "text/x-python",
   "name": "python",
   "nbconvert_exporter": "python",
   "pygments_lexer": "ipython3",
   "version": "3.13.2"
  }
 },
 "nbformat": 4,
 "nbformat_minor": 2
}
