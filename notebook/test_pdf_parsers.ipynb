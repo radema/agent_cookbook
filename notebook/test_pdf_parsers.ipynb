{
 "cells": [
  {
   "cell_type": "markdown",
   "metadata": {},
   "source": [
    "### Read data"
   ]
  },
  {
   "cell_type": "code",
   "execution_count": 1,
   "metadata": {},
   "outputs": [
    {
     "name": "stderr",
     "output_type": "stream",
     "text": [
      "/opt/anaconda3/envs/llm_agent/lib/python3.13/site-packages/tqdm/auto.py:21: TqdmWarning: IProgress not found. Please update jupyter and ipywidgets. See https://ipywidgets.readthedocs.io/en/stable/user_install.html\n",
      "  from .autonotebook import tqdm as notebook_tqdm\n"
     ]
    },
    {
     "name": "stdout",
     "output_type": "stream",
     "text": [
      "<!-- image -->\n",
      "\n",
      "## Eseguito Bonifico Europeo Unico in data 20.11.2024 20.11.2024 21:38\n",
      "\n",
      "Internet Banking\n",
      "\n",
      "Vi confermiamo il Vostro ordine di Bonifico Europeo Unico in data 20.11.2024\n",
      "\n",
      "Numero ordine\n",
      "\n",
      "INTER20241120BOSBE350192748\n",
      "\n",
      "Ordinante De Maio Raul - Pantaleo Rossella Filiale ROMA-TUSCOLANA\n",
      "\n",
      "N. C/C\n",
      "\n",
      "1000/00014233\n",
      "\n",
      "Dati dell'operazione\n",
      "\n",
      "Beneficiario\n",
      "\n",
      "EDIL FIORINI SNC\n",
      "\n",
      "Indirizzo\n",
      "\n",
      "Localit\n",
      "\n",
      "-\n",
      "\n",
      "Paese\n",
      "\n",
      "-\n",
      "\n",
      "Nazione sede legale o residenza beneficiario\n",
      "\n",
      "ITALIA\n",
      "\n",
      "Banca\n",
      "\n",
      "INTESA SANPAOLO SPA Cerveteri VIA ARMANDO DIAZ 10\n",
      "\n",
      "IBAN\n",
      "\n",
      "IT51L0306939030000000003129\n",
      "\n",
      "BIC\n",
      "\n",
      "BCITITMMXXX\n",
      "\n",
      "C.F. o P.IVA beneficiario 04223531007\n",
      "\n",
      "C.F. fruitore della detrazione\n",
      "\n",
      "DMERLA91S09H501U\n",
      "\n",
      "Debitore Effettivo\n",
      "\n",
      "-\n",
      "\n",
      "Creditore Effettivo\n",
      "\n",
      "-\n",
      "\n",
      "Identificativo bonifico\n",
      "\n",
      "Tipologia\n",
      "\n",
      "-\n",
      "\n",
      "Tipologia di spese\n",
      "\n",
      "Spese su beni di proprieta'\n",
      "\n",
      "Descrizione\n",
      "\n",
      "RECUPERO PATRIMONIO EDILIZIO - ART. 16-BIS TUIR\n",
      "\n",
      "FATTURA nr. 48/2024 del 01/10/ 2024-PROT. CILA N CI/2024/1130 67-ACCONTO LAVORI MAN.\n",
      "\n",
      "STRAORD\n",
      "\n",
      "INARIA VIA VESTRICIO SPURINNA 57 00175 ROMA\n",
      "\n",
      "Importo\n",
      "\n",
      "7700.00 Euro\n",
      "\n",
      "TRN\n",
      "\n",
      "0306968849728104480320003200IT\n",
      "\n",
      "Commissioni\n",
      "\n",
      "1.20 Euro\n",
      "\n",
      "Data contabile ordinante 20.11.2024 Data di addebito\n",
      "\n",
      "Totale operazione\n",
      "\n",
      "7701.20 Euro\n",
      "\n",
      "20.11.2024\n",
      "\n",
      "operazione\" secondo le modalita' concordate in sede di stipula del contratto di conto corrente e/o di successive variazioni concordate, nel quale potra' trovare ogni dettaglio in proposito. In sede di liquidazione periodica di queste spese potra' verificare il dettaglio dei conteggi, che viene esposto all'interno del Suo estratto conto di conto corrente, alla voce \"Spese\" della sezione \"Dettaglio competenze di chiusura\".\n"
     ]
    }
   ],
   "source": [
    "from docling.document_converter import DocumentConverter\n",
    "import os \n",
    "\n",
    "DATA_DIR = '../data/'\n",
    "source = 'Disposizione Di Bonifico.pdf'  # document per local path or URL\n",
    "converter = DocumentConverter()\n",
    "result = converter.convert(os.path.join(DATA_DIR, source))\n",
    "print(result.document.export_to_markdown())  # output: \"## Docling Technical Report[...]\""
   ]
  },
  {
   "cell_type": "markdown",
   "metadata": {},
   "source": [
    "### Define Template"
   ]
  },
  {
   "cell_type": "code",
   "execution_count": 2,
   "metadata": {},
   "outputs": [],
   "source": [
    "from pydantic import BaseModel, Field\n",
    "from typing import List\n",
    "from datetime import datetime\n",
    "\n",
    "class LineItem(BaseModel):\n",
    "    \"\"\"Una linea di un oggetto in una fattura.\"\"\"\n",
    "\n",
    "    item_name: str = Field(description=\"Il nome dell'articolo\")\n",
    "    price: float = Field(description=\"Il prezzo dell'articolo\")\n",
    "\n",
    "\n",
    "class Invoice(BaseModel):\n",
    "    \"\"\"Una rappresentazione di informazione di una fattura.\"\"\"\n",
    "\n",
    "    invoice_id: str = Field(\n",
    "        description=\"Un identificativo univoco per questa fattura. Spesso un codice alfanumerico.\"\n",
    "    )\n",
    "    date: datetime = Field(description=\"La data in cui la fattura è stata creata.\")\n",
    "    total_price: float = Field(description=\"Il prezzo totale della fattura.\")\n",
    "    iva: float = Field(description=\"L'IVA applicata alla fattura.\")\n",
    "    line_items: list[LineItem] = Field(\n",
    "        description=\"Una lista di tutti gli articoli compresi nella fattura\"\n",
    "    )\n"
   ]
  },
  {
   "cell_type": "code",
   "execution_count": 29,
   "metadata": {},
   "outputs": [],
   "source": [
    "class Answer(BaseModel):\n",
    "    \"\"\"A generic structured answer to a question which requires dicotomic response (yes or no).\"\"\"\n",
    "    short_response : bool = Field(description=\"True if the answer to the question is yes, False otherwise\")\n",
    "    response: str = Field(description=\"The long and detailed answer to the question.\")"
   ]
  },
  {
   "cell_type": "code",
   "execution_count": 30,
   "metadata": {},
   "outputs": [],
   "source": [
    "from llama_index.llms.ollama import Ollama"
   ]
  },
  {
   "cell_type": "code",
   "execution_count": 31,
   "metadata": {},
   "outputs": [],
   "source": [
    "from llama_index.llms.ollama import Ollama\n",
    "from llama_index.core.program import FunctionCallingProgram\n",
    "\n",
    "# Initialize the Ollama LLM\n",
    "llm = Ollama(\n",
    "    model=\"phi4-mini\", \n",
    "    request_timeout=120.0,\n",
    "    format='json', \n",
    "    temperature=0.01,\n",
    "    num_ctx=32000\n",
    "    )\n",
    "\n",
    "# Define the prompt template\n",
    "prompt_template_str = (\n",
    "    \"Extract the invoice details from the following document:\\n\\n\"\n",
    "    \"{document}\\n\\n\"\n",
    ")\n",
    "\n",
    "# Create the LLMPydanticProgram\n",
    "#program = FunctionCallingProgram.from_defaults(\n",
    "#    output_cls=Invoice,\n",
    "#    prompt_template_str=prompt_template_str,\n",
    "#    llm=llm,\n",
    "#    verbose=True\n",
    "#)\n"
   ]
  },
  {
   "cell_type": "code",
   "execution_count": 32,
   "metadata": {},
   "outputs": [],
   "source": [
    "#program(document=result.document.export_to_markdown())"
   ]
  },
  {
   "cell_type": "code",
   "execution_count": 33,
   "metadata": {},
   "outputs": [],
   "source": [
    "#source = 'E00324337228-IT4453739-z80K5gyUNjnHM3sO8hfJk0XP.pdf'  # document per local path or URL\n",
    "#converter = DocumentConverter()\n",
    "#result = converter.convert(source)\n",
    "#print(result.document.export_to_markdown())\n",
    "\n",
    "#program(document=result.document.export_to_markdown())"
   ]
  },
  {
   "cell_type": "markdown",
   "metadata": {},
   "source": [
    "### Example with Structured_Predict (using function)"
   ]
  },
  {
   "cell_type": "code",
   "execution_count": 34,
   "metadata": {},
   "outputs": [
    {
     "data": {
      "text/plain": [
       "Invoice(invoice_id='48/2024', date=datetime.datetime(110, 4, 24, 0, 0, tzinfo=TzInfo(+02:00)), total_price=7700.0, iva=1001423330000092.0, line_items=[LineItem(item_name='RECUPERO PATRIMONIO EDILIZIO - ART. 16-BIS TUIR', price=7700.0)])"
      ]
     },
     "execution_count": 34,
     "metadata": {},
     "output_type": "execute_result"
    }
   ],
   "source": [
    "from llama_index.core.prompts import PromptTemplate\n",
    "\n",
    "prompt = PromptTemplate(\n",
    "    \"Estrai i dati della fattura dal seguente testo:{text}\"\n",
    ")\n",
    "\n",
    "\n",
    "llm.structured_predict(\n",
    "    Invoice, \n",
    "    prompt=prompt, \n",
    "    text=result.document.export_to_markdown()\n",
    "    )"
   ]
  },
  {
   "cell_type": "markdown",
   "metadata": {},
   "source": [
    "### Example combining RAG"
   ]
  },
  {
   "cell_type": "code",
   "execution_count": 35,
   "metadata": {},
   "outputs": [],
   "source": [
    "from llama_index.core import Document\n",
    "\n",
    "document = Document(text=result.document.export_to_markdown(), metadata={'source':os.path.join(DATA_DIR, source)})"
   ]
  },
  {
   "cell_type": "code",
   "execution_count": 36,
   "metadata": {},
   "outputs": [
    {
     "data": {
      "text/plain": [
       "Document(id_='126ba574-e331-4a94-8521-5ae7393abe8d', embedding=None, metadata={'source': '../data/Disposizione Di Bonifico.pdf'}, excluded_embed_metadata_keys=[], excluded_llm_metadata_keys=[], relationships={}, metadata_template='{key}: {value}', metadata_separator='\\n', text_resource=MediaResource(embeddings=None, data=None, text='<!-- image -->\\n\\n## Eseguito Bonifico Europeo Unico in data 20.11.2024 20.11.2024 21:38\\n\\nInternet Banking\\n\\nVi confermiamo il Vostro ordine di Bonifico Europeo Unico in data 20.11.2024\\n\\nNumero ordine\\n\\nINTER20241120BOSBE350192748\\n\\nOrdinante De Maio Raul - Pantaleo Rossella Filiale ROMA-TUSCOLANA\\n\\nN. C/C\\n\\n1000/00014233\\n\\nDati dell\\'operazione\\n\\nBeneficiario\\n\\nEDIL FIORINI SNC\\n\\nIndirizzo\\n\\nLocalit\\n\\n-\\n\\nPaese\\n\\n-\\n\\nNazione sede legale o residenza beneficiario\\n\\nITALIA\\n\\nBanca\\n\\nINTESA SANPAOLO SPA Cerveteri VIA ARMANDO DIAZ 10\\n\\nIBAN\\n\\nIT51L0306939030000000003129\\n\\nBIC\\n\\nBCITITMMXXX\\n\\nC.F. o P.IVA beneficiario 04223531007\\n\\nC.F. fruitore della detrazione\\n\\nDMERLA91S09H501U\\n\\nDebitore Effettivo\\n\\n-\\n\\nCreditore Effettivo\\n\\n-\\n\\nIdentificativo bonifico\\n\\nTipologia\\n\\n-\\n\\nTipologia di spese\\n\\nSpese su beni di proprieta\\'\\n\\nDescrizione\\n\\nRECUPERO PATRIMONIO EDILIZIO - ART. 16-BIS TUIR\\n\\nFATTURA nr. 48/2024 del 01/10/ 2024-PROT. CILA N CI/2024/1130 67-ACCONTO LAVORI MAN.\\n\\nSTRAORD\\n\\nINARIA VIA VESTRICIO SPURINNA 57 00175 ROMA\\n\\nImporto\\n\\n7700.00 Euro\\n\\nTRN\\n\\n0306968849728104480320003200IT\\n\\nCommissioni\\n\\n1.20 Euro\\n\\nData contabile ordinante 20.11.2024 Data di addebito\\n\\nTotale operazione\\n\\n7701.20 Euro\\n\\n20.11.2024\\n\\noperazione\" secondo le modalita\\' concordate in sede di stipula del contratto di conto corrente e/o di successive variazioni concordate, nel quale potra\\' trovare ogni dettaglio in proposito. In sede di liquidazione periodica di queste spese potra\\' verificare il dettaglio dei conteggi, che viene esposto all\\'interno del Suo estratto conto di conto corrente, alla voce \"Spese\" della sezione \"Dettaglio competenze di chiusura\".', path=None, url=None, mimetype=None), image_resource=None, audio_resource=None, video_resource=None, text_template='{metadata_str}\\n\\n{content}')"
      ]
     },
     "execution_count": 36,
     "metadata": {},
     "output_type": "execute_result"
    }
   ],
   "source": [
    "document"
   ]
  },
  {
   "cell_type": "code",
   "execution_count": 37,
   "metadata": {},
   "outputs": [],
   "source": [
    "from llama_index.core.node_parser import MarkdownNodeParser\n",
    "\n",
    "nodes = MarkdownNodeParser(include_metadata=True, include_prev_next_rel=True).get_nodes_from_documents([document])"
   ]
  },
  {
   "cell_type": "code",
   "execution_count": 38,
   "metadata": {},
   "outputs": [],
   "source": [
    "from llama_index.embeddings.huggingface import HuggingFaceEmbedding\n",
    "from llama_index.core import Settings\n",
    "\n",
    "\n",
    "embed_model = HuggingFaceEmbedding(model_name='intfloat/multilingual-e5-small')\n",
    "Settings.embed_model = embed_model\n",
    "\n"
   ]
  },
  {
   "cell_type": "code",
   "execution_count": 39,
   "metadata": {},
   "outputs": [],
   "source": [
    "from llama_index.core import VectorStoreIndex\n",
    "\n",
    "index = VectorStoreIndex(nodes, embed_model=embed_model)"
   ]
  },
  {
   "cell_type": "code",
   "execution_count": 40,
   "metadata": {},
   "outputs": [
    {
     "data": {
      "text/plain": [
       "[NodeWithScore(node=TextNode(id_='e0a120c3-252e-4896-83fe-83b78a3bbc14', embedding=None, metadata={'source': '../data/Disposizione Di Bonifico.pdf', 'header_path': '/'}, excluded_embed_metadata_keys=[], excluded_llm_metadata_keys=[], relationships={<NodeRelationship.SOURCE: '1'>: RelatedNodeInfo(node_id='126ba574-e331-4a94-8521-5ae7393abe8d', node_type='4', metadata={'source': '../data/Disposizione Di Bonifico.pdf'}, hash='35aed61174b229224b6ff2e00b0fe0071348720cfbccbdf0ff6bc7726cfba554'), <NodeRelationship.NEXT: '3'>: RelatedNodeInfo(node_id='21b0ee65-dbde-43a9-bb1a-e966c1901232', node_type='1', metadata={'header_path': '/'}, hash='c66663a6feb02f619517f95d8239e581488efcbd544137584b9e66917ffa800f')}, metadata_template='{key}: {value}', metadata_separator='\\n', text='<!-- image -->', mimetype='text/plain', start_char_idx=0, end_char_idx=14, metadata_seperator='\\n', text_template='{metadata_str}\\n\\n{content}'), score=0.8721792632671911),\n",
       " NodeWithScore(node=TextNode(id_='21b0ee65-dbde-43a9-bb1a-e966c1901232', embedding=None, metadata={'source': '../data/Disposizione Di Bonifico.pdf', 'header_path': '/'}, excluded_embed_metadata_keys=[], excluded_llm_metadata_keys=[], relationships={<NodeRelationship.SOURCE: '1'>: RelatedNodeInfo(node_id='126ba574-e331-4a94-8521-5ae7393abe8d', node_type='4', metadata={'source': '../data/Disposizione Di Bonifico.pdf'}, hash='35aed61174b229224b6ff2e00b0fe0071348720cfbccbdf0ff6bc7726cfba554'), <NodeRelationship.PREVIOUS: '2'>: RelatedNodeInfo(node_id='e0a120c3-252e-4896-83fe-83b78a3bbc14', node_type='1', metadata={'source': '../data/Disposizione Di Bonifico.pdf', 'header_path': '/'}, hash='bae04a6ae9b572d3d7753165a4c90b13e50d1656e2333f9971d2d423406b5c2a')}, metadata_template='{key}: {value}', metadata_separator='\\n', text='## Eseguito Bonifico Europeo Unico in data 20.11.2024 20.11.2024 21:38\\n\\nInternet Banking\\n\\nVi confermiamo il Vostro ordine di Bonifico Europeo Unico in data 20.11.2024\\n\\nNumero ordine\\n\\nINTER20241120BOSBE350192748\\n\\nOrdinante De Maio Raul - Pantaleo Rossella Filiale ROMA-TUSCOLANA\\n\\nN. C/C\\n\\n1000/00014233\\n\\nDati dell\\'operazione\\n\\nBeneficiario\\n\\nEDIL FIORINI SNC\\n\\nIndirizzo\\n\\nLocalit\\n\\n-\\n\\nPaese\\n\\n-\\n\\nNazione sede legale o residenza beneficiario\\n\\nITALIA\\n\\nBanca\\n\\nINTESA SANPAOLO SPA Cerveteri VIA ARMANDO DIAZ 10\\n\\nIBAN\\n\\nIT51L0306939030000000003129\\n\\nBIC\\n\\nBCITITMMXXX\\n\\nC.F. o P.IVA beneficiario 04223531007\\n\\nC.F. fruitore della detrazione\\n\\nDMERLA91S09H501U\\n\\nDebitore Effettivo\\n\\n-\\n\\nCreditore Effettivo\\n\\n-\\n\\nIdentificativo bonifico\\n\\nTipologia\\n\\n-\\n\\nTipologia di spese\\n\\nSpese su beni di proprieta\\'\\n\\nDescrizione\\n\\nRECUPERO PATRIMONIO EDILIZIO - ART. 16-BIS TUIR\\n\\nFATTURA nr. 48/2024 del 01/10/ 2024-PROT. CILA N CI/2024/1130 67-ACCONTO LAVORI MAN.\\n\\nSTRAORD\\n\\nINARIA VIA VESTRICIO SPURINNA 57 00175 ROMA\\n\\nImporto\\n\\n7700.00 Euro\\n\\nTRN\\n\\n0306968849728104480320003200IT\\n\\nCommissioni\\n\\n1.20 Euro\\n\\nData contabile ordinante 20.11.2024 Data di addebito\\n\\nTotale operazione\\n\\n7701.20 Euro\\n\\n20.11.2024\\n\\noperazione\" secondo le modalita\\' concordate in sede di stipula del contratto di conto corrente e/o di successive variazioni concordate, nel quale potra\\' trovare ogni dettaglio in proposito. In sede di liquidazione periodica di queste spese potra\\' verificare il dettaglio dei conteggi, che viene esposto all\\'interno del Suo estratto conto di conto corrente, alla voce \"Spese\" della sezione \"Dettaglio competenze di chiusura\".', mimetype='text/plain', start_char_idx=16, end_char_idx=1603, metadata_seperator='\\n', text_template='{metadata_str}\\n\\n{content}'), score=0.8546218174342427)]"
      ]
     },
     "execution_count": 40,
     "metadata": {},
     "output_type": "execute_result"
    }
   ],
   "source": [
    "index.as_retriever(\n",
    "    similarity_top_k = 5,embed_model=embed_model\n",
    ").retrieve(\"Beneficiario fattura\")"
   ]
  },
  {
   "cell_type": "code",
   "execution_count": 41,
   "metadata": {},
   "outputs": [],
   "source": [
    "query_engine = index.as_query_engine(\n",
    "    similarity_top_k = 5,\n",
    "    llm=llm.as_structured_llm(Invoice),\n",
    "    response_mode=\"tree_summarize\"\n",
    ")"
   ]
  },
  {
   "cell_type": "code",
   "execution_count": 42,
   "metadata": {},
   "outputs": [
    {
     "data": {
      "text/plain": [
       "PydanticResponse(response=Invoice(invoice_id='0306968849728104480320003200IT', date=datetime.datetime(2011, 4, 24, 0, 38, 44, tzinfo=TzInfo(+01:00)), total_price=7701.2, iva=1.2, line_items=[LineItem(item_name='RECUPERO PATRIMONIO EDILIZIO - ART. 16-BIS TUIR', price=7700.0), LineItem(item_name='Commissione per Bonifico Europeo Unico (EUR)', price=1.2)]), source_nodes=[NodeWithScore(node=TextNode(id_='e0a120c3-252e-4896-83fe-83b78a3bbc14', embedding=None, metadata={'source': '../data/Disposizione Di Bonifico.pdf', 'header_path': '/'}, excluded_embed_metadata_keys=[], excluded_llm_metadata_keys=[], relationships={<NodeRelationship.SOURCE: '1'>: RelatedNodeInfo(node_id='126ba574-e331-4a94-8521-5ae7393abe8d', node_type='4', metadata={'source': '../data/Disposizione Di Bonifico.pdf'}, hash='35aed61174b229224b6ff2e00b0fe0071348720cfbccbdf0ff6bc7726cfba554'), <NodeRelationship.NEXT: '3'>: RelatedNodeInfo(node_id='21b0ee65-dbde-43a9-bb1a-e966c1901232', node_type='1', metadata={'header_path': '/'}, hash='c66663a6feb02f619517f95d8239e581488efcbd544137584b9e66917ffa800f')}, metadata_template='{key}: {value}', metadata_separator='\\n', text='<!-- image -->', mimetype='text/plain', start_char_idx=0, end_char_idx=14, metadata_seperator='\\n', text_template='{metadata_str}\\n\\n{content}'), score=0.8205800981835134), NodeWithScore(node=TextNode(id_='21b0ee65-dbde-43a9-bb1a-e966c1901232', embedding=None, metadata={'source': '../data/Disposizione Di Bonifico.pdf', 'header_path': '/'}, excluded_embed_metadata_keys=[], excluded_llm_metadata_keys=[], relationships={<NodeRelationship.SOURCE: '1'>: RelatedNodeInfo(node_id='126ba574-e331-4a94-8521-5ae7393abe8d', node_type='4', metadata={'source': '../data/Disposizione Di Bonifico.pdf'}, hash='35aed61174b229224b6ff2e00b0fe0071348720cfbccbdf0ff6bc7726cfba554'), <NodeRelationship.PREVIOUS: '2'>: RelatedNodeInfo(node_id='e0a120c3-252e-4896-83fe-83b78a3bbc14', node_type='1', metadata={'source': '../data/Disposizione Di Bonifico.pdf', 'header_path': '/'}, hash='bae04a6ae9b572d3d7753165a4c90b13e50d1656e2333f9971d2d423406b5c2a')}, metadata_template='{key}: {value}', metadata_separator='\\n', text='## Eseguito Bonifico Europeo Unico in data 20.11.2024 20.11.2024 21:38\\n\\nInternet Banking\\n\\nVi confermiamo il Vostro ordine di Bonifico Europeo Unico in data 20.11.2024\\n\\nNumero ordine\\n\\nINTER20241120BOSBE350192748\\n\\nOrdinante De Maio Raul - Pantaleo Rossella Filiale ROMA-TUSCOLANA\\n\\nN. C/C\\n\\n1000/00014233\\n\\nDati dell\\'operazione\\n\\nBeneficiario\\n\\nEDIL FIORINI SNC\\n\\nIndirizzo\\n\\nLocalit\\n\\n-\\n\\nPaese\\n\\n-\\n\\nNazione sede legale o residenza beneficiario\\n\\nITALIA\\n\\nBanca\\n\\nINTESA SANPAOLO SPA Cerveteri VIA ARMANDO DIAZ 10\\n\\nIBAN\\n\\nIT51L0306939030000000003129\\n\\nBIC\\n\\nBCITITMMXXX\\n\\nC.F. o P.IVA beneficiario 04223531007\\n\\nC.F. fruitore della detrazione\\n\\nDMERLA91S09H501U\\n\\nDebitore Effettivo\\n\\n-\\n\\nCreditore Effettivo\\n\\n-\\n\\nIdentificativo bonifico\\n\\nTipologia\\n\\n-\\n\\nTipologia di spese\\n\\nSpese su beni di proprieta\\'\\n\\nDescrizione\\n\\nRECUPERO PATRIMONIO EDILIZIO - ART. 16-BIS TUIR\\n\\nFATTURA nr. 48/2024 del 01/10/ 2024-PROT. CILA N CI/2024/1130 67-ACCONTO LAVORI MAN.\\n\\nSTRAORD\\n\\nINARIA VIA VESTRICIO SPURINNA 57 00175 ROMA\\n\\nImporto\\n\\n7700.00 Euro\\n\\nTRN\\n\\n0306968849728104480320003200IT\\n\\nCommissioni\\n\\n1.20 Euro\\n\\nData contabile ordinante 20.11.2024 Data di addebito\\n\\nTotale operazione\\n\\n7701.20 Euro\\n\\n20.11.2024\\n\\noperazione\" secondo le modalita\\' concordate in sede di stipula del contratto di conto corrente e/o di successive variazioni concordate, nel quale potra\\' trovare ogni dettaglio in proposito. In sede di liquidazione periodica di queste spese potra\\' verificare il dettaglio dei conteggi, che viene esposto all\\'interno del Suo estratto conto di conto corrente, alla voce \"Spese\" della sezione \"Dettaglio competenze di chiusura\".', mimetype='text/plain', start_char_idx=16, end_char_idx=1603, metadata_seperator='\\n', text_template='{metadata_str}\\n\\n{content}'), score=0.8110053102743019)], metadata={'e0a120c3-252e-4896-83fe-83b78a3bbc14': {'source': '../data/Disposizione Di Bonifico.pdf', 'header_path': '/'}, '21b0ee65-dbde-43a9-bb1a-e966c1901232': {'source': '../data/Disposizione Di Bonifico.pdf', 'header_path': '/'}})"
      ]
     },
     "execution_count": 42,
     "metadata": {},
     "output_type": "execute_result"
    }
   ],
   "source": [
    "query_engine.query(\"sberbank\")"
   ]
  },
  {
   "cell_type": "code",
   "execution_count": 43,
   "metadata": {},
   "outputs": [],
   "source": [
    "# get document and parse it to markdown\n",
    "\n",
    "# get markdown and build index\n",
    "\n",
    "# from index build query engine (with reranker if possible)\n",
    "\n",
    "# Option 1: Make question (aka checklist) <- envetually to be commbined with feature extraction features\n",
    "\n",
    "# Option 2: Combine with Pydantic and extract structured output (aka datafeed)\n",
    "\n",
    "# Option 3: Combine Retriever and Pydantic Template as \"tools\" for the workflow"
   ]
  },
  {
   "cell_type": "code",
   "execution_count": 27,
   "metadata": {},
   "outputs": [],
   "source": [
    "query_engine = index.as_query_engine(\n",
    "    similarity_top_k = 5,\n",
    "    llm=llm.as_structured_llm(Answer),\n",
    "    response_mode=\"tree_summarize\"\n",
    ")"
   ]
  },
  {
   "cell_type": "code",
   "execution_count": 28,
   "metadata": {},
   "outputs": [
    {
     "data": {
      "text/plain": [
       "PydanticResponse(response=Answer(short_response=True, response='Sì'), source_nodes=[NodeWithScore(node=TextNode(id_='bcdbcfb1-d81e-4b98-b79f-8f2030ad680b', embedding=None, metadata={'source': '../data/Disposizione Di Bonifico.pdf', 'header_path': '/'}, excluded_embed_metadata_keys=[], excluded_llm_metadata_keys=[], relationships={<NodeRelationship.SOURCE: '1'>: RelatedNodeInfo(node_id='ff90139f-9383-4ab8-a7c7-8cb17cec169e', node_type='4', metadata={'source': '../data/Disposizione Di Bonifico.pdf'}, hash='35aed61174b229224b6ff2e00b0fe0071348720cfbccbdf0ff6bc7726cfba554'), <NodeRelationship.NEXT: '3'>: RelatedNodeInfo(node_id='8e0f6c35-784d-4ebc-807b-84d0fe6ddb18', node_type='1', metadata={'header_path': '/'}, hash='c66663a6feb02f619517f95d8239e581488efcbd544137584b9e66917ffa800f')}, metadata_template='{key}: {value}', metadata_separator='\\n', text='<!-- image -->', mimetype='text/plain', start_char_idx=0, end_char_idx=14, metadata_seperator='\\n', text_template='{metadata_str}\\n\\n{content}'), score=0.8626968613437949), NodeWithScore(node=TextNode(id_='8e0f6c35-784d-4ebc-807b-84d0fe6ddb18', embedding=None, metadata={'source': '../data/Disposizione Di Bonifico.pdf', 'header_path': '/'}, excluded_embed_metadata_keys=[], excluded_llm_metadata_keys=[], relationships={<NodeRelationship.SOURCE: '1'>: RelatedNodeInfo(node_id='ff90139f-9383-4ab8-a7c7-8cb17cec169e', node_type='4', metadata={'source': '../data/Disposizione Di Bonifico.pdf'}, hash='35aed61174b229224b6ff2e00b0fe0071348720cfbccbdf0ff6bc7726cfba554'), <NodeRelationship.PREVIOUS: '2'>: RelatedNodeInfo(node_id='bcdbcfb1-d81e-4b98-b79f-8f2030ad680b', node_type='1', metadata={'source': '../data/Disposizione Di Bonifico.pdf', 'header_path': '/'}, hash='bae04a6ae9b572d3d7753165a4c90b13e50d1656e2333f9971d2d423406b5c2a')}, metadata_template='{key}: {value}', metadata_separator='\\n', text='## Eseguito Bonifico Europeo Unico in data 20.11.2024 20.11.2024 21:38\\n\\nInternet Banking\\n\\nVi confermiamo il Vostro ordine di Bonifico Europeo Unico in data 20.11.2024\\n\\nNumero ordine\\n\\nINTER20241120BOSBE350192748\\n\\nOrdinante De Maio Raul - Pantaleo Rossella Filiale ROMA-TUSCOLANA\\n\\nN. C/C\\n\\n1000/00014233\\n\\nDati dell\\'operazione\\n\\nBeneficiario\\n\\nEDIL FIORINI SNC\\n\\nIndirizzo\\n\\nLocalit\\n\\n-\\n\\nPaese\\n\\n-\\n\\nNazione sede legale o residenza beneficiario\\n\\nITALIA\\n\\nBanca\\n\\nINTESA SANPAOLO SPA Cerveteri VIA ARMANDO DIAZ 10\\n\\nIBAN\\n\\nIT51L0306939030000000003129\\n\\nBIC\\n\\nBCITITMMXXX\\n\\nC.F. o P.IVA beneficiario 04223531007\\n\\nC.F. fruitore della detrazione\\n\\nDMERLA91S09H501U\\n\\nDebitore Effettivo\\n\\n-\\n\\nCreditore Effettivo\\n\\n-\\n\\nIdentificativo bonifico\\n\\nTipologia\\n\\n-\\n\\nTipologia di spese\\n\\nSpese su beni di proprieta\\'\\n\\nDescrizione\\n\\nRECUPERO PATRIMONIO EDILIZIO - ART. 16-BIS TUIR\\n\\nFATTURA nr. 48/2024 del 01/10/ 2024-PROT. CILA N CI/2024/1130 67-ACCONTO LAVORI MAN.\\n\\nSTRAORD\\n\\nINARIA VIA VESTRICIO SPURINNA 57 00175 ROMA\\n\\nImporto\\n\\n7700.00 Euro\\n\\nTRN\\n\\n0306968849728104480320003200IT\\n\\nCommissioni\\n\\n1.20 Euro\\n\\nData contabile ordinante 20.11.2024 Data di addebito\\n\\nTotale operazione\\n\\n7701.20 Euro\\n\\n20.11.2024\\n\\noperazione\" secondo le modalita\\' concordate in sede di stipula del contratto di conto corrente e/o di successive variazioni concordate, nel quale potra\\' trovare ogni dettaglio in proposito. In sede di liquidazione periodica di queste spese potra\\' verificare il dettaglio dei conteggi, che viene esposto all\\'interno del Suo estratto conto di conto corrente, alla voce \"Spese\" della sezione \"Dettaglio competenze di chiusura\".', mimetype='text/plain', start_char_idx=16, end_char_idx=1603, metadata_seperator='\\n', text_template='{metadata_str}\\n\\n{content}'), score=0.8232463721302885)], metadata={'bcdbcfb1-d81e-4b98-b79f-8f2030ad680b': {'source': '../data/Disposizione Di Bonifico.pdf', 'header_path': '/'}, '8e0f6c35-784d-4ebc-807b-84d0fe6ddb18': {'source': '../data/Disposizione Di Bonifico.pdf', 'header_path': '/'}})"
      ]
     },
     "execution_count": 28,
     "metadata": {},
     "output_type": "execute_result"
    }
   ],
   "source": [
    "query_engine.query(\"Il conto è cointestato? Rispondi con sì o no.\")"
   ]
  },
  {
   "cell_type": "code",
   "execution_count": 85,
   "metadata": {},
   "outputs": [
    {
     "data": {
      "text/plain": [
       "{'$defs': {'LineItem': {'description': 'Una linea di un oggetto in una fattura.',\n",
       "   'properties': {'item_name': {'description': \"Il nome dell'articolo\",\n",
       "     'title': 'Item Name',\n",
       "     'type': 'string'},\n",
       "    'price': {'description': \"Il prezzo dell'articolo\",\n",
       "     'title': 'Price',\n",
       "     'type': 'number'}},\n",
       "   'required': ['item_name', 'price'],\n",
       "   'title': 'LineItem',\n",
       "   'type': 'object'}},\n",
       " 'description': 'Una rappresentazione di informazione di una fattura.',\n",
       " 'properties': {'invoice_id': {'description': 'Un identificativo univoco per questa fattura. Spesso un codice alfanumerico.',\n",
       "   'title': 'Invoice Id',\n",
       "   'type': 'string'},\n",
       "  'date': {'description': 'La data in cui la fattura è stata creata.',\n",
       "   'format': 'date-time',\n",
       "   'title': 'Date',\n",
       "   'type': 'string'},\n",
       "  'total_price': {'description': 'Il prezzo totale della fattura.',\n",
       "   'title': 'Total Price',\n",
       "   'type': 'number'},\n",
       "  'iva': {'description': \"L'IVA applicata alla fattura.\",\n",
       "   'title': 'Iva',\n",
       "   'type': 'number'},\n",
       "  'line_items': {'description': 'Una lista di tutti gli articoli compresi nella fattura',\n",
       "   'items': {'$ref': '#/$defs/LineItem'},\n",
       "   'title': 'Line Items',\n",
       "   'type': 'array'}},\n",
       " 'required': ['invoice_id', 'date', 'total_price', 'iva', 'line_items'],\n",
       " 'title': 'Invoice',\n",
       " 'type': 'object'}"
      ]
     },
     "execution_count": 85,
     "metadata": {},
     "output_type": "execute_result"
    }
   ],
   "source": [
    "Invoice.model_json_schema()"
   ]
  },
  {
   "cell_type": "markdown",
   "metadata": {},
   "source": [
    "# 1. Decomposing the Problem\n",
    "\n",
    "You need to:\n",
    "\n",
    "* ✅ Process text that exceeds the context window.\n",
    "* ✅ Extract structured information using a Pydantic schema.\n",
    "* ✅ Use RAG to retrieve relevant sections.\n",
    "* ✅ Utilize an agent to manage the flow.\n",
    "\n"
   ]
  },
  {
   "cell_type": "markdown",
   "metadata": {},
   "source": [
    "# 2. Suggested Approach\n",
    "Here’s a modular pipeline for handling the task:\n",
    "\n",
    "## A. Chunking & Indexing (Preprocessing Step)\n",
    "Break the long text into semantic chunks (e.g., using LangChain's RecursiveCharacterTextSplitter).\n",
    "Store these in a vector database (like FAISS, Chroma, Weaviate, etc.) for retrieval.\n",
    "## B. Agent as an Orchestrator\n",
    "The agent's role is to:\n",
    "* Interpret the query (e.g., \"Extract company details\" → determines which Pydantic model to use).\n",
    "* Retrieve relevant chunks from the vector store using RAG.\n",
    "* Pass the chunks to the LLM for structured extraction using the Pydantic class.\n",
    "* Aggregate results across multiple LLM calls (if necessary).\n",
    "## C. Query’s Role in the Process\n",
    "* The query defines what needs to be extracted from the long text.\n",
    "* It helps the agent filter and retrieve relevant chunks.\n",
    "Example queries:\n",
    "\"Extract all person names and their affiliations.\"\n",
    "\"Find product descriptions and their pricing information.\"\n",
    "\"Summarize legal clauses about termination conditions.\"\n"
   ]
  },
  {
   "cell_type": "markdown",
   "metadata": {},
   "source": [
    "https://docs.llamaindex.ai/en/stable/module_guides/querying/structured_outputs/\n",
    "https://docs.llamaindex.ai/en/stable/understanding/extraction/lower_level/"
   ]
  },
  {
   "cell_type": "code",
   "execution_count": null,
   "metadata": {},
   "outputs": [],
   "source": []
  }
 ],
 "metadata": {
  "kernelspec": {
   "display_name": "llm_agent",
   "language": "python",
   "name": "python3"
  },
  "language_info": {
   "codemirror_mode": {
    "name": "ipython",
    "version": 3
   },
   "file_extension": ".py",
   "mimetype": "text/x-python",
   "name": "python",
   "nbconvert_exporter": "python",
   "pygments_lexer": "ipython3",
   "version": "3.13.2"
  }
 },
 "nbformat": 4,
 "nbformat_minor": 2
}
